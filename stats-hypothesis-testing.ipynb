{
 "cells": [
  {
   "cell_type": "code",
   "execution_count": 1,
   "metadata": {
    "_cell_guid": "b1076dfc-b9ad-4769-8c92-a6c4dae69d19",
    "_uuid": "8f2839f25d086af736a60e9eeb907d3b93b6e0e5",
    "execution": {
     "iopub.execute_input": "2020-09-01T12:29:37.040424Z",
     "iopub.status.busy": "2020-09-01T12:29:37.039733Z",
     "iopub.status.idle": "2020-09-01T12:29:37.970704Z",
     "shell.execute_reply": "2020-09-01T12:29:37.969954Z"
    },
    "papermill": {
     "duration": 0.949567,
     "end_time": "2020-09-01T12:29:37.970831",
     "exception": false,
     "start_time": "2020-09-01T12:29:37.021264",
     "status": "completed"
    },
    "tags": []
   },
   "outputs": [
    {
     "data": {
      "text/html": [
       "<div>\n",
       "<style scoped>\n",
       "    .dataframe tbody tr th:only-of-type {\n",
       "        vertical-align: middle;\n",
       "    }\n",
       "\n",
       "    .dataframe tbody tr th {\n",
       "        vertical-align: top;\n",
       "    }\n",
       "\n",
       "    .dataframe thead th {\n",
       "        text-align: right;\n",
       "    }\n",
       "</style>\n",
       "<table border=\"1\" class=\"dataframe\">\n",
       "  <thead>\n",
       "    <tr style=\"text-align: right;\">\n",
       "      <th></th>\n",
       "      <th>Loan_ID</th>\n",
       "      <th>Gender</th>\n",
       "      <th>Married</th>\n",
       "      <th>Dependents</th>\n",
       "      <th>Education</th>\n",
       "      <th>Self_Employed</th>\n",
       "      <th>ApplicantIncome</th>\n",
       "      <th>CoapplicantIncome</th>\n",
       "      <th>LoanAmount</th>\n",
       "      <th>Loan_Amount_Term</th>\n",
       "      <th>Credit_History</th>\n",
       "      <th>Property_Area</th>\n",
       "      <th>Loan_Status</th>\n",
       "    </tr>\n",
       "  </thead>\n",
       "  <tbody>\n",
       "    <tr>\n",
       "      <th>0</th>\n",
       "      <td>LP001002</td>\n",
       "      <td>Male</td>\n",
       "      <td>No</td>\n",
       "      <td>0</td>\n",
       "      <td>Graduate</td>\n",
       "      <td>No</td>\n",
       "      <td>5849</td>\n",
       "      <td>0.0</td>\n",
       "      <td>NaN</td>\n",
       "      <td>360.0</td>\n",
       "      <td>1.0</td>\n",
       "      <td>Urban</td>\n",
       "      <td>Y</td>\n",
       "    </tr>\n",
       "    <tr>\n",
       "      <th>1</th>\n",
       "      <td>LP001003</td>\n",
       "      <td>Male</td>\n",
       "      <td>Yes</td>\n",
       "      <td>1</td>\n",
       "      <td>Graduate</td>\n",
       "      <td>No</td>\n",
       "      <td>4583</td>\n",
       "      <td>1508.0</td>\n",
       "      <td>128.0</td>\n",
       "      <td>360.0</td>\n",
       "      <td>1.0</td>\n",
       "      <td>Rural</td>\n",
       "      <td>N</td>\n",
       "    </tr>\n",
       "    <tr>\n",
       "      <th>2</th>\n",
       "      <td>LP001005</td>\n",
       "      <td>Male</td>\n",
       "      <td>Yes</td>\n",
       "      <td>0</td>\n",
       "      <td>Graduate</td>\n",
       "      <td>Yes</td>\n",
       "      <td>3000</td>\n",
       "      <td>0.0</td>\n",
       "      <td>66.0</td>\n",
       "      <td>360.0</td>\n",
       "      <td>1.0</td>\n",
       "      <td>Urban</td>\n",
       "      <td>Y</td>\n",
       "    </tr>\n",
       "    <tr>\n",
       "      <th>3</th>\n",
       "      <td>LP001006</td>\n",
       "      <td>Male</td>\n",
       "      <td>Yes</td>\n",
       "      <td>0</td>\n",
       "      <td>Not Graduate</td>\n",
       "      <td>No</td>\n",
       "      <td>2583</td>\n",
       "      <td>2358.0</td>\n",
       "      <td>120.0</td>\n",
       "      <td>360.0</td>\n",
       "      <td>1.0</td>\n",
       "      <td>Urban</td>\n",
       "      <td>Y</td>\n",
       "    </tr>\n",
       "    <tr>\n",
       "      <th>4</th>\n",
       "      <td>LP001008</td>\n",
       "      <td>Male</td>\n",
       "      <td>No</td>\n",
       "      <td>0</td>\n",
       "      <td>Graduate</td>\n",
       "      <td>No</td>\n",
       "      <td>6000</td>\n",
       "      <td>0.0</td>\n",
       "      <td>141.0</td>\n",
       "      <td>360.0</td>\n",
       "      <td>1.0</td>\n",
       "      <td>Urban</td>\n",
       "      <td>Y</td>\n",
       "    </tr>\n",
       "  </tbody>\n",
       "</table>\n",
       "</div>"
      ],
      "text/plain": [
       "    Loan_ID Gender Married Dependents     Education Self_Employed  \\\n",
       "0  LP001002   Male      No          0      Graduate            No   \n",
       "1  LP001003   Male     Yes          1      Graduate            No   \n",
       "2  LP001005   Male     Yes          0      Graduate           Yes   \n",
       "3  LP001006   Male     Yes          0  Not Graduate            No   \n",
       "4  LP001008   Male      No          0      Graduate            No   \n",
       "\n",
       "   ApplicantIncome  CoapplicantIncome  LoanAmount  Loan_Amount_Term  \\\n",
       "0             5849                0.0         NaN             360.0   \n",
       "1             4583             1508.0       128.0             360.0   \n",
       "2             3000                0.0        66.0             360.0   \n",
       "3             2583             2358.0       120.0             360.0   \n",
       "4             6000                0.0       141.0             360.0   \n",
       "\n",
       "   Credit_History Property_Area Loan_Status  \n",
       "0             1.0         Urban           Y  \n",
       "1             1.0         Rural           N  \n",
       "2             1.0         Urban           Y  \n",
       "3             1.0         Urban           Y  \n",
       "4             1.0         Urban           Y  "
      ]
     },
     "execution_count": 1,
     "metadata": {},
     "output_type": "execute_result"
    }
   ],
   "source": [
    "import pandas as pd\n",
    "import numpy as np\n",
    "import matplotlib.pyplot as plt\n",
    "import seaborn as sns\n",
    "\n",
    "data1=pd.read_csv('../input/loan-prediction-dataset/train.csv')\n",
    "data1.head()"
   ]
  },
  {
   "cell_type": "code",
   "execution_count": 2,
   "metadata": {
    "_cell_guid": "79c7e3d0-c299-4dcb-8224-4455121ee9b0",
    "_uuid": "d629ff2d2480ee46fbb7e2d37f6b5fab8052498a",
    "execution": {
     "iopub.execute_input": "2020-09-01T12:29:38.000837Z",
     "iopub.status.busy": "2020-09-01T12:29:38.000252Z",
     "iopub.status.idle": "2020-09-01T12:29:38.003327Z",
     "shell.execute_reply": "2020-09-01T12:29:38.003796Z"
    },
    "papermill": {
     "duration": 0.020629,
     "end_time": "2020-09-01T12:29:38.003947",
     "exception": false,
     "start_time": "2020-09-01T12:29:37.983318",
     "status": "completed"
    },
    "tags": []
   },
   "outputs": [
    {
     "data": {
      "text/plain": [
       "(614, 13)"
      ]
     },
     "execution_count": 2,
     "metadata": {},
     "output_type": "execute_result"
    }
   ],
   "source": [
    "data1.shape"
   ]
  },
  {
   "cell_type": "code",
   "execution_count": 3,
   "metadata": {
    "execution": {
     "iopub.execute_input": "2020-09-01T12:29:38.031776Z",
     "iopub.status.busy": "2020-09-01T12:29:38.031201Z",
     "iopub.status.idle": "2020-09-01T12:29:38.038717Z",
     "shell.execute_reply": "2020-09-01T12:29:38.039199Z"
    },
    "papermill": {
     "duration": 0.022901,
     "end_time": "2020-09-01T12:29:38.039337",
     "exception": false,
     "start_time": "2020-09-01T12:29:38.016436",
     "status": "completed"
    },
    "tags": []
   },
   "outputs": [
    {
     "data": {
      "text/plain": [
       "Loan_ID               object\n",
       "Gender                object\n",
       "Married               object\n",
       "Dependents            object\n",
       "Education             object\n",
       "Self_Employed         object\n",
       "ApplicantIncome        int64\n",
       "CoapplicantIncome    float64\n",
       "LoanAmount           float64\n",
       "Loan_Amount_Term     float64\n",
       "Credit_History       float64\n",
       "Property_Area         object\n",
       "Loan_Status           object\n",
       "dtype: object"
      ]
     },
     "execution_count": 3,
     "metadata": {},
     "output_type": "execute_result"
    }
   ],
   "source": [
    "data1.dtypes"
   ]
  },
  {
   "cell_type": "code",
   "execution_count": 4,
   "metadata": {
    "execution": {
     "iopub.execute_input": "2020-09-01T12:29:38.078929Z",
     "iopub.status.busy": "2020-09-01T12:29:38.078307Z",
     "iopub.status.idle": "2020-09-01T12:29:38.103215Z",
     "shell.execute_reply": "2020-09-01T12:29:38.103690Z"
    },
    "papermill": {
     "duration": 0.049573,
     "end_time": "2020-09-01T12:29:38.103828",
     "exception": false,
     "start_time": "2020-09-01T12:29:38.054255",
     "status": "completed"
    },
    "tags": []
   },
   "outputs": [
    {
     "data": {
      "text/html": [
       "<div>\n",
       "<style scoped>\n",
       "    .dataframe tbody tr th:only-of-type {\n",
       "        vertical-align: middle;\n",
       "    }\n",
       "\n",
       "    .dataframe tbody tr th {\n",
       "        vertical-align: top;\n",
       "    }\n",
       "\n",
       "    .dataframe thead th {\n",
       "        text-align: right;\n",
       "    }\n",
       "</style>\n",
       "<table border=\"1\" class=\"dataframe\">\n",
       "  <thead>\n",
       "    <tr style=\"text-align: right;\">\n",
       "      <th></th>\n",
       "      <th>ApplicantIncome</th>\n",
       "      <th>CoapplicantIncome</th>\n",
       "      <th>LoanAmount</th>\n",
       "      <th>Loan_Amount_Term</th>\n",
       "      <th>Credit_History</th>\n",
       "    </tr>\n",
       "  </thead>\n",
       "  <tbody>\n",
       "    <tr>\n",
       "      <th>count</th>\n",
       "      <td>614.000000</td>\n",
       "      <td>614.000000</td>\n",
       "      <td>592.000000</td>\n",
       "      <td>600.00000</td>\n",
       "      <td>564.000000</td>\n",
       "    </tr>\n",
       "    <tr>\n",
       "      <th>mean</th>\n",
       "      <td>5403.459283</td>\n",
       "      <td>1621.245798</td>\n",
       "      <td>146.412162</td>\n",
       "      <td>342.00000</td>\n",
       "      <td>0.842199</td>\n",
       "    </tr>\n",
       "    <tr>\n",
       "      <th>std</th>\n",
       "      <td>6109.041673</td>\n",
       "      <td>2926.248369</td>\n",
       "      <td>85.587325</td>\n",
       "      <td>65.12041</td>\n",
       "      <td>0.364878</td>\n",
       "    </tr>\n",
       "    <tr>\n",
       "      <th>min</th>\n",
       "      <td>150.000000</td>\n",
       "      <td>0.000000</td>\n",
       "      <td>9.000000</td>\n",
       "      <td>12.00000</td>\n",
       "      <td>0.000000</td>\n",
       "    </tr>\n",
       "    <tr>\n",
       "      <th>25%</th>\n",
       "      <td>2877.500000</td>\n",
       "      <td>0.000000</td>\n",
       "      <td>100.000000</td>\n",
       "      <td>360.00000</td>\n",
       "      <td>1.000000</td>\n",
       "    </tr>\n",
       "    <tr>\n",
       "      <th>50%</th>\n",
       "      <td>3812.500000</td>\n",
       "      <td>1188.500000</td>\n",
       "      <td>128.000000</td>\n",
       "      <td>360.00000</td>\n",
       "      <td>1.000000</td>\n",
       "    </tr>\n",
       "    <tr>\n",
       "      <th>75%</th>\n",
       "      <td>5795.000000</td>\n",
       "      <td>2297.250000</td>\n",
       "      <td>168.000000</td>\n",
       "      <td>360.00000</td>\n",
       "      <td>1.000000</td>\n",
       "    </tr>\n",
       "    <tr>\n",
       "      <th>max</th>\n",
       "      <td>81000.000000</td>\n",
       "      <td>41667.000000</td>\n",
       "      <td>700.000000</td>\n",
       "      <td>480.00000</td>\n",
       "      <td>1.000000</td>\n",
       "    </tr>\n",
       "  </tbody>\n",
       "</table>\n",
       "</div>"
      ],
      "text/plain": [
       "       ApplicantIncome  CoapplicantIncome  LoanAmount  Loan_Amount_Term  \\\n",
       "count       614.000000         614.000000  592.000000         600.00000   \n",
       "mean       5403.459283        1621.245798  146.412162         342.00000   \n",
       "std        6109.041673        2926.248369   85.587325          65.12041   \n",
       "min         150.000000           0.000000    9.000000          12.00000   \n",
       "25%        2877.500000           0.000000  100.000000         360.00000   \n",
       "50%        3812.500000        1188.500000  128.000000         360.00000   \n",
       "75%        5795.000000        2297.250000  168.000000         360.00000   \n",
       "max       81000.000000       41667.000000  700.000000         480.00000   \n",
       "\n",
       "       Credit_History  \n",
       "count      564.000000  \n",
       "mean         0.842199  \n",
       "std          0.364878  \n",
       "min          0.000000  \n",
       "25%          1.000000  \n",
       "50%          1.000000  \n",
       "75%          1.000000  \n",
       "max          1.000000  "
      ]
     },
     "execution_count": 4,
     "metadata": {},
     "output_type": "execute_result"
    }
   ],
   "source": [
    "#rough idea on distribution of continuous variable\n",
    "data1.describe()"
   ]
  },
  {
   "cell_type": "code",
   "execution_count": 5,
   "metadata": {
    "execution": {
     "iopub.execute_input": "2020-09-01T12:29:38.138417Z",
     "iopub.status.busy": "2020-09-01T12:29:38.137728Z",
     "iopub.status.idle": "2020-09-01T12:29:38.410689Z",
     "shell.execute_reply": "2020-09-01T12:29:38.410127Z"
    },
    "papermill": {
     "duration": 0.294109,
     "end_time": "2020-09-01T12:29:38.410798",
     "exception": false,
     "start_time": "2020-09-01T12:29:38.116689",
     "status": "completed"
    },
    "tags": []
   },
   "outputs": [
    {
     "data": {
      "text/plain": [
       "<matplotlib.axes._subplots.AxesSubplot at 0x7f3b5d7f4e10>"
      ]
     },
     "execution_count": 5,
     "metadata": {},
     "output_type": "execute_result"
    },
    {
     "data": {
      "image/png": "[encoded data removed]",
      "text/plain": [
       "<Figure size 432x288 with 1 Axes>"
      ]
     },
     "metadata": {
      "needs_background": "light"
     },
     "output_type": "display_data"
    }
   ],
   "source": [
    "sns.distplot(data1[data1['Loan_Status']=='Y']['LoanAmount'],color='g', label=\"Approved\")\n",
    "sns.distplot(data1[data1['Loan_Status']=='N']['LoanAmount'],color='r', label=\"Not Approved\")\n"
   ]
  },
  {
   "cell_type": "code",
   "execution_count": 6,
   "metadata": {
    "execution": {
     "iopub.execute_input": "2020-09-01T12:29:38.446902Z",
     "iopub.status.busy": "2020-09-01T12:29:38.445940Z",
     "iopub.status.idle": "2020-09-01T12:29:38.450629Z",
     "shell.execute_reply": "2020-09-01T12:29:38.450196Z"
    },
    "papermill": {
     "duration": 0.025659,
     "end_time": "2020-09-01T12:29:38.450738",
     "exception": false,
     "start_time": "2020-09-01T12:29:38.425079",
     "status": "completed"
    },
    "tags": []
   },
   "outputs": [
    {
     "data": {
      "text/plain": [
       "Loan_ID               0\n",
       "Gender               13\n",
       "Married               3\n",
       "Dependents           15\n",
       "Education             0\n",
       "Self_Employed        32\n",
       "ApplicantIncome       0\n",
       "CoapplicantIncome     0\n",
       "LoanAmount           22\n",
       "Loan_Amount_Term     14\n",
       "Credit_History       50\n",
       "Property_Area         0\n",
       "Loan_Status           0\n",
       "dtype: int64"
      ]
     },
     "execution_count": 6,
     "metadata": {},
     "output_type": "execute_result"
    }
   ],
   "source": [
    "#treatment of missing variable\n",
    "data1.isna().sum()"
   ]
  },
  {
   "cell_type": "code",
   "execution_count": 7,
   "metadata": {
    "execution": {
     "iopub.execute_input": "2020-09-01T12:29:38.485130Z",
     "iopub.status.busy": "2020-09-01T12:29:38.484534Z",
     "iopub.status.idle": "2020-09-01T12:29:38.487038Z",
     "shell.execute_reply": "2020-09-01T12:29:38.486492Z"
    },
    "papermill": {
     "duration": 0.022069,
     "end_time": "2020-09-01T12:29:38.487146",
     "exception": false,
     "start_time": "2020-09-01T12:29:38.465077",
     "status": "completed"
    },
    "tags": []
   },
   "outputs": [],
   "source": [
    "data1['LoanAmount']=data1['LoanAmount'].fillna(data1['LoanAmount'].median()) #fill by 50th percentile value\n",
    "#data1['Married']=data1['Married'].fillna(data1['Married'].median()) #fill by 50th percentile value"
   ]
  },
  {
   "cell_type": "code",
   "execution_count": 8,
   "metadata": {
    "execution": {
     "iopub.execute_input": "2020-09-01T12:29:38.521816Z",
     "iopub.status.busy": "2020-09-01T12:29:38.521228Z",
     "iopub.status.idle": "2020-09-01T12:29:38.527434Z",
     "shell.execute_reply": "2020-09-01T12:29:38.527924Z"
    },
    "papermill": {
     "duration": 0.025917,
     "end_time": "2020-09-01T12:29:38.528064",
     "exception": false,
     "start_time": "2020-09-01T12:29:38.502147",
     "status": "completed"
    },
    "tags": []
   },
   "outputs": [
    {
     "data": {
      "text/plain": [
       "Loan_ID               0\n",
       "Gender               13\n",
       "Married               3\n",
       "Dependents           15\n",
       "Education             0\n",
       "Self_Employed        32\n",
       "ApplicantIncome       0\n",
       "CoapplicantIncome     0\n",
       "LoanAmount            0\n",
       "Loan_Amount_Term     14\n",
       "Credit_History       50\n",
       "Property_Area         0\n",
       "Loan_Status           0\n",
       "dtype: int64"
      ]
     },
     "execution_count": 8,
     "metadata": {},
     "output_type": "execute_result"
    }
   ],
   "source": [
    "data1.isna().sum()"
   ]
  },
  {
   "cell_type": "code",
   "execution_count": 9,
   "metadata": {
    "execution": {
     "iopub.execute_input": "2020-09-01T12:29:38.560507Z",
     "iopub.status.busy": "2020-09-01T12:29:38.559982Z",
     "iopub.status.idle": "2020-09-01T12:29:38.667414Z",
     "shell.execute_reply": "2020-09-01T12:29:38.666784Z"
    },
    "papermill": {
     "duration": 0.12491,
     "end_time": "2020-09-01T12:29:38.667538",
     "exception": false,
     "start_time": "2020-09-01T12:29:38.542628",
     "status": "completed"
    },
    "tags": []
   },
   "outputs": [
    {
     "name": "stdout",
     "output_type": "stream",
     "text": [
      "6.523526250899361\n"
     ]
    },
    {
     "data": {
      "text/plain": [
       "{'whiskers': [<matplotlib.lines.Line2D at 0x7f3b5d4d1a10>,\n",
       "  <matplotlib.lines.Line2D at 0x7f3b5d4d1f50>],\n",
       " 'caps': [<matplotlib.lines.Line2D at 0x7f3b5d4d74d0>,\n",
       "  <matplotlib.lines.Line2D at 0x7f3b5d4d7a10>],\n",
       " 'boxes': [<matplotlib.lines.Line2D at 0x7f3b5d514290>],\n",
       " 'medians': [<matplotlib.lines.Line2D at 0x7f3b5d4d7f90>],\n",
       " 'fliers': [<matplotlib.lines.Line2D at 0x7f3b5d4c4a50>],\n",
       " 'means': []}"
      ]
     },
     "execution_count": 9,
     "metadata": {},
     "output_type": "execute_result"
    },
    {
     "data": {
      "image/png": "[encoded data removed]",
      "text/plain": [
       "<Figure size 432x288 with 1 Axes>"
      ]
     },
     "metadata": {
      "needs_background": "light"
     },
     "output_type": "display_data"
    }
   ],
   "source": [
    "from scipy.stats import skew\n",
    "print(skew(data1['ApplicantIncome']))\n",
    "plt.boxplot(data1['ApplicantIncome']) #Outliears are present\n",
    "#data is highly skewed, right skewed"
   ]
  },
  {
   "cell_type": "code",
   "execution_count": 10,
   "metadata": {
    "execution": {
     "iopub.execute_input": "2020-09-01T12:29:38.706088Z",
     "iopub.status.busy": "2020-09-01T12:29:38.705377Z",
     "iopub.status.idle": "2020-09-01T12:29:38.729287Z",
     "shell.execute_reply": "2020-09-01T12:29:38.728649Z"
    },
    "papermill": {
     "duration": 0.045367,
     "end_time": "2020-09-01T12:29:38.729400",
     "exception": false,
     "start_time": "2020-09-01T12:29:38.684033",
     "status": "completed"
    },
    "tags": []
   },
   "outputs": [],
   "source": [
    "data1['ApplicantIncome']=data1['ApplicantIncome'].clip(None, np.percentile(data1['ApplicantIncome'],95))"
   ]
  },
  {
   "cell_type": "code",
   "execution_count": 11,
   "metadata": {
    "execution": {
     "iopub.execute_input": "2020-09-01T12:29:38.768769Z",
     "iopub.status.busy": "2020-09-01T12:29:38.767730Z",
     "iopub.status.idle": "2020-09-01T12:29:38.869399Z",
     "shell.execute_reply": "2020-09-01T12:29:38.868666Z"
    },
    "papermill": {
     "duration": 0.123747,
     "end_time": "2020-09-01T12:29:38.869542",
     "exception": false,
     "start_time": "2020-09-01T12:29:38.745795",
     "status": "completed"
    },
    "tags": []
   },
   "outputs": [
    {
     "name": "stdout",
     "output_type": "stream",
     "text": [
      "1.7119447438594193\n"
     ]
    },
    {
     "data": {
      "text/plain": [
       "{'whiskers': [<matplotlib.lines.Line2D at 0x7f3b5c3cb410>,\n",
       "  <matplotlib.lines.Line2D at 0x7f3b5c3cb950>],\n",
       " 'caps': [<matplotlib.lines.Line2D at 0x7f3b5c3cbe90>,\n",
       "  <matplotlib.lines.Line2D at 0x7f3b5c3d3410>],\n",
       " 'boxes': [<matplotlib.lines.Line2D at 0x7f3b5d48e110>],\n",
       " 'medians': [<matplotlib.lines.Line2D at 0x7f3b5c3d3990>],\n",
       " 'fliers': [<matplotlib.lines.Line2D at 0x7f3b5c3d3ed0>],\n",
       " 'means': []}"
      ]
     },
     "execution_count": 11,
     "metadata": {},
     "output_type": "execute_result"
    },
    {
     "data": {
      "image/png": "[encoded data removed]",
      "text/plain": [
       "<Figure size 432x288 with 1 Axes>"
      ]
     },
     "metadata": {
      "needs_background": "light"
     },
     "output_type": "display_data"
    }
   ],
   "source": [
    "print (skew(data1['ApplicantIncome']))\n",
    "plt.boxplot(data1['ApplicantIncome'])\n",
    "#Skewness has come down post outlier treatment"
   ]
  },
  {
   "cell_type": "code",
   "execution_count": 12,
   "metadata": {
    "execution": {
     "iopub.execute_input": "2020-09-01T12:29:38.918550Z",
     "iopub.status.busy": "2020-09-01T12:29:38.911339Z",
     "iopub.status.idle": "2020-09-01T12:29:38.922492Z",
     "shell.execute_reply": "2020-09-01T12:29:38.921936Z"
    },
    "papermill": {
     "duration": 0.035172,
     "end_time": "2020-09-01T12:29:38.922613",
     "exception": false,
     "start_time": "2020-09-01T12:29:38.887441",
     "status": "completed"
    },
    "tags": []
   },
   "outputs": [],
   "source": [
    "#High Approval rates for male ?\n",
    "data1['Loan_Status']=data1['Loan_Status'].map({'Y':1,'N':0})\n",
    "male=data1[data1['Gender']=='Male']['Loan_Status'].mean()\n",
    "male_c=data1[data1['Gender']=='Male']['Loan_Status'].count()\n",
    "male_std=np.std(data1[data1['Gender']=='Male']['Loan_Status'])\n",
    "\n",
    "female=data1[data1['Gender']=='Female']['Loan_Status'].mean()\n",
    "female_c=data1[data1['Gender']=='Female']['Loan_Status'].count()\n",
    "female_std=np.std(data1[data1['Gender']=='Female']['Loan_Status'])"
   ]
  },
  {
   "cell_type": "code",
   "execution_count": 13,
   "metadata": {
    "execution": {
     "iopub.execute_input": "2020-09-01T12:29:38.963550Z",
     "iopub.status.busy": "2020-09-01T12:29:38.962762Z",
     "iopub.status.idle": "2020-09-01T12:29:38.966838Z",
     "shell.execute_reply": "2020-09-01T12:29:38.966073Z"
    },
    "papermill": {
     "duration": 0.027481,
     "end_time": "2020-09-01T12:29:38.967048",
     "exception": false,
     "start_time": "2020-09-01T12:29:38.939567",
     "status": "completed"
    },
    "tags": []
   },
   "outputs": [
    {
     "name": "stdout",
     "output_type": "stream",
     "text": [
      "0.48090274260944615\n"
     ]
    }
   ],
   "source": [
    "z=(male-female)/(np.sqrt(male_std**2/male_c+female_std**2/female_c))\n",
    "print (z)\n",
    "df=male_c+female_c-2\n",
    "\n",
    "#h0-means are same\n",
    "#h1- means are different, male approval rate is higher than that of females\n",
    "\n",
    "p=0.07\n",
    "alpha=0.01\n",
    "#p>alpha here, failed to reject null hypothesis. So  there is not enough evidence to suggest that males have higher approval rate.\n"
   ]
  },
  {
   "cell_type": "code",
   "execution_count": 14,
   "metadata": {
    "execution": {
     "iopub.execute_input": "2020-09-01T12:29:39.013258Z",
     "iopub.status.busy": "2020-09-01T12:29:39.012645Z",
     "iopub.status.idle": "2020-09-01T12:29:39.016932Z",
     "shell.execute_reply": "2020-09-01T12:29:39.016378Z"
    },
    "papermill": {
     "duration": 0.031431,
     "end_time": "2020-09-01T12:29:39.017038",
     "exception": false,
     "start_time": "2020-09-01T12:29:38.985607",
     "status": "completed"
    },
    "tags": []
   },
   "outputs": [
    {
     "data": {
      "text/plain": [
       "Ttest_indResult(statistic=0.4860860523233649, pvalue=0.6270839280455408)"
      ]
     },
     "execution_count": 14,
     "metadata": {},
     "output_type": "execute_result"
    }
   ],
   "source": [
    "from scipy.stats import ttest_ind\n",
    "ttest_ind(data1[data1['Gender']=='Male']['Loan_Status'], data1[data1['Gender']=='Female']['Loan_Status'])"
   ]
  },
  {
   "cell_type": "code",
   "execution_count": 15,
   "metadata": {
    "execution": {
     "iopub.execute_input": "2020-09-01T12:29:39.065006Z",
     "iopub.status.busy": "2020-09-01T12:29:39.064388Z",
     "iopub.status.idle": "2020-09-01T12:29:39.067592Z",
     "shell.execute_reply": "2020-09-01T12:29:39.067103Z"
    },
    "papermill": {
     "duration": 0.033109,
     "end_time": "2020-09-01T12:29:39.067702",
     "exception": false,
     "start_time": "2020-09-01T12:29:39.034593",
     "status": "completed"
    },
    "tags": []
   },
   "outputs": [],
   "source": [
    "#Graduates getting have high salary?\n",
    "grd=data1[data1['Education']=='Graduate']['ApplicantIncome'].mean()\n",
    "grd_c=data1[data1['Education']=='Graduate']['ApplicantIncome'].count()\n",
    "grd_std=np.std(data1[data1['Education']=='Graduate']['ApplicantIncome'])\n",
    "\n",
    "ngrd=data1[data1['Education']=='Not Graduate']['ApplicantIncome'].mean()\n",
    "ngrd_c=data1[data1['Education']=='Not Graduate']['ApplicantIncome'].count()\n",
    "ngrd_std=np.std(data1[data1['Education']=='Not Graduate']['ApplicantIncome'])\n"
   ]
  },
  {
   "cell_type": "code",
   "execution_count": 16,
   "metadata": {
    "execution": {
     "iopub.execute_input": "2020-09-01T12:29:39.108969Z",
     "iopub.status.busy": "2020-09-01T12:29:39.108314Z",
     "iopub.status.idle": "2020-09-01T12:29:39.111999Z",
     "shell.execute_reply": "2020-09-01T12:29:39.111394Z"
    },
    "papermill": {
     "duration": 0.026513,
     "end_time": "2020-09-01T12:29:39.112114",
     "exception": false,
     "start_time": "2020-09-01T12:29:39.085601",
     "status": "completed"
    },
    "tags": []
   },
   "outputs": [
    {
     "name": "stdout",
     "output_type": "stream",
     "text": [
      "5.08997149835223\n"
     ]
    }
   ],
   "source": [
    "z=(grd-ngrd)/(np.sqrt(grd**2/grd_c+ngrd_std**2/ngrd_c))\n",
    "print (z)\n",
    "#h0-graduate income and non graduate income no differece\n",
    "#h1- graduate income higher than non-graduate income\n",
    "\n",
    "p=0.0001\n",
    "alpha=0.01\n",
    "#p<alpha- reject the null hypothesis, there is strong evidence in against null hypothesis. Graduates earn higher income\n",
    "\n"
   ]
  },
  {
   "cell_type": "code",
   "execution_count": 17,
   "metadata": {
    "execution": {
     "iopub.execute_input": "2020-09-01T12:29:39.157889Z",
     "iopub.status.busy": "2020-09-01T12:29:39.156866Z",
     "iopub.status.idle": "2020-09-01T12:29:39.161628Z",
     "shell.execute_reply": "2020-09-01T12:29:39.161150Z"
    },
    "papermill": {
     "duration": 0.031596,
     "end_time": "2020-09-01T12:29:39.161733",
     "exception": false,
     "start_time": "2020-09-01T12:29:39.130137",
     "status": "completed"
    },
    "tags": []
   },
   "outputs": [
    {
     "data": {
      "text/plain": [
       "Ttest_indResult(statistic=4.83562888187702, pvalue=1.6809901021110786e-06)"
      ]
     },
     "execution_count": 17,
     "metadata": {},
     "output_type": "execute_result"
    }
   ],
   "source": [
    "ttest_ind(data1[data1['Education']=='Graduate']['ApplicantIncome'], data1[data1['Education']=='Not Graduate']['ApplicantIncome'])"
   ]
  },
  {
   "cell_type": "code",
   "execution_count": 18,
   "metadata": {
    "execution": {
     "iopub.execute_input": "2020-09-01T12:29:39.213999Z",
     "iopub.status.busy": "2020-09-01T12:29:39.213277Z",
     "iopub.status.idle": "2020-09-01T12:29:39.216301Z",
     "shell.execute_reply": "2020-09-01T12:29:39.215713Z"
    },
    "papermill": {
     "duration": 0.035932,
     "end_time": "2020-09-01T12:29:39.216413",
     "exception": false,
     "start_time": "2020-09-01T12:29:39.180481",
     "status": "completed"
    },
    "tags": []
   },
   "outputs": [],
   "source": [
    "#Self Employed loan amount is higher than not self employed?\n",
    "data1['Self_Employed']=data1['Self_Employed'].map({'Yes':1,'No':0})\n",
    "slf=data1[data1['Self_Employed']==1]['LoanAmount'].mean()\n",
    "slf_c=data1[data1['Self_Employed']==1]['LoanAmount'].count()\n",
    "slf_std=np.std(data1[data1['Self_Employed']==1]['LoanAmount'])\n",
    "nslf=data1[data1['Self_Employed']==0]['LoanAmount'].mean()\n",
    "nslf_c=data1[data1['Self_Employed']==0]['LoanAmount'].count()\n",
    "nslf_std=np.std(data1[data1['Self_Employed']==0]['LoanAmount'])"
   ]
  },
  {
   "cell_type": "code",
   "execution_count": 19,
   "metadata": {
    "execution": {
     "iopub.execute_input": "2020-09-01T12:29:39.262514Z",
     "iopub.status.busy": "2020-09-01T12:29:39.261779Z",
     "iopub.status.idle": "2020-09-01T12:29:39.266227Z",
     "shell.execute_reply": "2020-09-01T12:29:39.265235Z"
    },
    "papermill": {
     "duration": 0.030096,
     "end_time": "2020-09-01T12:29:39.266430",
     "exception": false,
     "start_time": "2020-09-01T12:29:39.236334",
     "status": "completed"
    },
    "tags": []
   },
   "outputs": [
    {
     "name": "stdout",
     "output_type": "stream",
     "text": [
      "2.3790309616067273\n"
     ]
    }
   ],
   "source": [
    "z=(slf-nslf)/(np.sqrt(slf_std**2/slf_c+nslf_std**2/nslf_c))\n",
    "print (z)\n",
    "p=0.0087\n",
    "alpha=0.01\n",
    "#H0- slf and non self employed means are same\n",
    "#H1- slf employed loan mean is higher than that of non-self\n",
    "\n",
    "#reject the null hypothesis\n"
   ]
  },
  {
   "cell_type": "code",
   "execution_count": 20,
   "metadata": {
    "execution": {
     "iopub.execute_input": "2020-09-01T12:29:39.314119Z",
     "iopub.status.busy": "2020-09-01T12:29:39.313520Z",
     "iopub.status.idle": "2020-09-01T12:29:39.317187Z",
     "shell.execute_reply": "2020-09-01T12:29:39.316674Z"
    },
    "papermill": {
     "duration": 0.03056,
     "end_time": "2020-09-01T12:29:39.317288",
     "exception": false,
     "start_time": "2020-09-01T12:29:39.286728",
     "status": "completed"
    },
    "tags": []
   },
   "outputs": [
    {
     "data": {
      "text/plain": [
       "Ttest_indResult(statistic=2.9480824262887286, pvalue=0.0033262129354951005)"
      ]
     },
     "execution_count": 20,
     "metadata": {},
     "output_type": "execute_result"
    }
   ],
   "source": [
    "from scipy.stats import ttest_ind\n",
    "ttest_ind(data1[data1['Self_Employed']==1]['LoanAmount'], data1[data1['Self_Employed']==0]['LoanAmount'])"
   ]
  },
  {
   "cell_type": "code",
   "execution_count": 21,
   "metadata": {
    "execution": {
     "iopub.execute_input": "2020-09-01T12:29:39.373292Z",
     "iopub.status.busy": "2020-09-01T12:29:39.372647Z",
     "iopub.status.idle": "2020-09-01T12:29:39.379938Z",
     "shell.execute_reply": "2020-09-01T12:29:39.380376Z"
    },
    "papermill": {
     "duration": 0.035816,
     "end_time": "2020-09-01T12:29:39.380522",
     "exception": false,
     "start_time": "2020-09-01T12:29:39.344706",
     "status": "completed"
    },
    "tags": []
   },
   "outputs": [
    {
     "data": {
      "text/html": [
       "<div>\n",
       "<style scoped>\n",
       "    .dataframe tbody tr th:only-of-type {\n",
       "        vertical-align: middle;\n",
       "    }\n",
       "\n",
       "    .dataframe tbody tr th {\n",
       "        vertical-align: top;\n",
       "    }\n",
       "\n",
       "    .dataframe thead th {\n",
       "        text-align: right;\n",
       "    }\n",
       "</style>\n",
       "<table border=\"1\" class=\"dataframe\">\n",
       "  <thead>\n",
       "    <tr style=\"text-align: right;\">\n",
       "      <th></th>\n",
       "      <th>LoanAmount</th>\n",
       "      <th>ApplicantIncome</th>\n",
       "    </tr>\n",
       "  </thead>\n",
       "  <tbody>\n",
       "    <tr>\n",
       "      <th>LoanAmount</th>\n",
       "      <td>1.00000</td>\n",
       "      <td>0.59091</td>\n",
       "    </tr>\n",
       "    <tr>\n",
       "      <th>ApplicantIncome</th>\n",
       "      <td>0.59091</td>\n",
       "      <td>1.00000</td>\n",
       "    </tr>\n",
       "  </tbody>\n",
       "</table>\n",
       "</div>"
      ],
      "text/plain": [
       "                 LoanAmount  ApplicantIncome\n",
       "LoanAmount          1.00000          0.59091\n",
       "ApplicantIncome     0.59091          1.00000"
      ]
     },
     "execution_count": 21,
     "metadata": {},
     "output_type": "execute_result"
    }
   ],
   "source": [
    "#Relationship between LoanAmount and ApplicantIncome?\n",
    "data1[['LoanAmount','ApplicantIncome']].corr()"
   ]
  },
  {
   "cell_type": "code",
   "execution_count": 22,
   "metadata": {
    "execution": {
     "iopub.execute_input": "2020-09-01T12:29:39.422948Z",
     "iopub.status.busy": "2020-09-01T12:29:39.422370Z",
     "iopub.status.idle": "2020-09-01T12:29:39.427067Z",
     "shell.execute_reply": "2020-09-01T12:29:39.427456Z"
    },
    "papermill": {
     "duration": 0.027249,
     "end_time": "2020-09-01T12:29:39.427601",
     "exception": false,
     "start_time": "2020-09-01T12:29:39.400352",
     "status": "completed"
    },
    "tags": []
   },
   "outputs": [
    {
     "data": {
      "text/plain": [
       "array(['Urban', 'Rural', 'Semiurban'], dtype=object)"
      ]
     },
     "execution_count": 22,
     "metadata": {},
     "output_type": "execute_result"
    }
   ],
   "source": [
    "data1['Property_Area'].unique()"
   ]
  },
  {
   "cell_type": "code",
   "execution_count": 23,
   "metadata": {
    "execution": {
     "iopub.execute_input": "2020-09-01T12:29:39.470730Z",
     "iopub.status.busy": "2020-09-01T12:29:39.470126Z",
     "iopub.status.idle": "2020-09-01T12:29:39.494179Z",
     "shell.execute_reply": "2020-09-01T12:29:39.494569Z"
    },
    "papermill": {
     "duration": 0.046951,
     "end_time": "2020-09-01T12:29:39.494719",
     "exception": false,
     "start_time": "2020-09-01T12:29:39.447768",
     "status": "completed"
    },
    "tags": []
   },
   "outputs": [
    {
     "data": {
      "text/plain": [
       "(12.297623130485675,\n",
       " 0.0021360187811644937,\n",
       " 2,\n",
       " array([[ 55.97394137, 123.02605863],\n",
       "        [ 72.85993485, 160.14006515],\n",
       "        [ 63.16612378, 138.83387622]]))"
      ]
     },
     "execution_count": 23,
     "metadata": {},
     "output_type": "execute_result"
    }
   ],
   "source": [
    "from scipy.stats import chi2_contingency\n",
    "chi2_contingency(pd.crosstab(data1['Property_Area'], data1['Loan_Status']))\n",
    "\n",
    "#h0- Property_area and Loan Status are independent\n",
    "#h1- Property_are and Loan Status are dependent\n",
    "\n",
    "#reject null hypothesis at 0.01 significance level"
   ]
  },
  {
   "cell_type": "code",
   "execution_count": 24,
   "metadata": {
    "execution": {
     "iopub.execute_input": "2020-09-01T12:29:39.540350Z",
     "iopub.status.busy": "2020-09-01T12:29:39.539442Z",
     "iopub.status.idle": "2020-09-01T12:29:39.556219Z",
     "shell.execute_reply": "2020-09-01T12:29:39.556640Z"
    },
    "papermill": {
     "duration": 0.041719,
     "end_time": "2020-09-01T12:29:39.556780",
     "exception": false,
     "start_time": "2020-09-01T12:29:39.515061",
     "status": "completed"
    },
    "tags": []
   },
   "outputs": [
    {
     "data": {
      "text/plain": [
       "(174.63729658142535,\n",
       " 7.184759548750746e-40,\n",
       " 1,\n",
       " array([[ 28.2464539,  60.7535461],\n",
       "        [150.7535461, 324.2464539]]))"
      ]
     },
     "execution_count": 24,
     "metadata": {},
     "output_type": "execute_result"
    }
   ],
   "source": [
    "chi2_contingency(pd.crosstab(data1['Credit_History'], data1['Loan_Status']))\n",
    "#strong eveidence against Null hypothesis. There is strong relationship between Credit History and Loan Status"
   ]
  },
  {
   "cell_type": "code",
   "execution_count": null,
   "metadata": {
    "papermill": {
     "duration": 0.022261,
     "end_time": "2020-09-01T12:29:39.601034",
     "exception": false,
     "start_time": "2020-09-01T12:29:39.578773",
     "status": "completed"
    },
    "tags": []
   },
   "outputs": [],
   "source": []
  }
 ],
 "metadata": {
  "kernelspec": {
   "display_name": "Python 3",
   "language": "python",
   "name": "python3"
  },
  "language_info": {
   "codemirror_mode": {
    "name": "ipython",
    "version": 3
   },
   "file_extension": ".py",
   "mimetype": "text/x-python",
   "name": "python",
   "nbconvert_exporter": "python",
   "pygments_lexer": "ipython3",
   "version": "3.7.6"
  },
  "papermill": {
   "duration": 7.898294,
   "end_time": "2020-09-01T12:29:40.685439",
   "environment_variables": {},
   "exception": null,
   "input_path": "__notebook__.ipynb",
   "output_path": "__notebook__.ipynb",
   "parameters": {},
   "start_time": "2020-09-01T12:29:32.787145",
   "version": "2.1.0"
  }
 },
 "nbformat": 4,
 "nbformat_minor": 4
}
