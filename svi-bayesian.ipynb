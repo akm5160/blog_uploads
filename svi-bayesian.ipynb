{
 "cells": [
  {
   "cell_type": "code",
   "execution_count": 1,
   "metadata": {
    "_cell_guid": "b1076dfc-b9ad-4769-8c92-a6c4dae69d19",
    "_uuid": "8f2839f25d086af736a60e9eeb907d3b93b6e0e5",
    "execution": {
     "iopub.execute_input": "2020-08-21T07:07:42.301783Z",
     "iopub.status.busy": "2020-08-21T07:07:42.300964Z",
     "iopub.status.idle": "2020-08-21T07:07:58.123290Z",
     "shell.execute_reply": "2020-08-21T07:07:58.122446Z"
    },
    "papermill": {
     "duration": 15.848767,
     "end_time": "2020-08-21T07:07:58.123476",
     "exception": false,
     "start_time": "2020-08-21T07:07:42.274709",
     "status": "completed"
    },
    "tags": []
   },
   "outputs": [
    {
     "name": "stdout",
     "output_type": "stream",
     "text": [
      "Collecting pyro-ppl\r\n",
      "  Downloading pyro_ppl-1.4.0-py3-none-any.whl (573 kB)\r\n",
      "\u001b[K     |████████████████████████████████| 573 kB 546 kB/s \r\n",
      "\u001b[?25hRequirement already satisfied: tqdm>=4.36 in /opt/conda/lib/python3.7/site-packages (from pyro-ppl) (4.45.0)\r\n",
      "Collecting pyro-api>=0.1.1\r\n",
      "  Downloading pyro_api-0.1.2-py3-none-any.whl (11 kB)\r\n",
      "Requirement already satisfied: opt-einsum>=2.3.2 in /opt/conda/lib/python3.7/site-packages (from pyro-ppl) (3.3.0)\r\n",
      "Requirement already satisfied: torch>=1.5.0 in /opt/conda/lib/python3.7/site-packages (from pyro-ppl) (1.5.1)\r\n",
      "Requirement already satisfied: numpy>=1.7 in /opt/conda/lib/python3.7/site-packages (from pyro-ppl) (1.18.5)\r\n",
      "Requirement already satisfied: future in /opt/conda/lib/python3.7/site-packages (from torch>=1.5.0->pyro-ppl) (0.18.2)\r\n",
      "Installing collected packages: pyro-api, pyro-ppl\r\n",
      "Successfully installed pyro-api-0.1.2 pyro-ppl-1.4.0\r\n",
      "\u001b[33mWARNING: You are using pip version 20.2.1; however, version 20.2.2 is available.\r\n",
      "You should consider upgrading via the '/opt/conda/bin/python3.7 -m pip install --upgrade pip' command.\u001b[0m\r\n"
     ]
    }
   ],
   "source": [
    "!pip install pyro-ppl \n",
    "import torch\n",
    "import numpy as np\n",
    "import matplotlib.pyplot as plt\n",
    "import seaborn as sns\n",
    "import pandas as pd\n",
    "import torch.distributions as dist\n",
    "import pyro\n",
    "from pyro import optim as optim\n",
    "import pyro.distributions as dist\n",
    "from torch.distributions import constraints\n",
    "import warnings\n",
    "warnings.filterwarnings('ignore')"
   ]
  },
  {
   "cell_type": "code",
   "execution_count": 2,
   "metadata": {
    "_cell_guid": "79c7e3d0-c299-4dcb-8224-4455121ee9b0",
    "_uuid": "d629ff2d2480ee46fbb7e2d37f6b5fab8052498a",
    "execution": {
     "iopub.execute_input": "2020-08-21T07:07:58.174242Z",
     "iopub.status.busy": "2020-08-21T07:07:58.173466Z",
     "iopub.status.idle": "2020-08-21T07:07:58.179848Z",
     "shell.execute_reply": "2020-08-21T07:07:58.179082Z"
    },
    "papermill": {
     "duration": 0.033502,
     "end_time": "2020-08-21T07:07:58.179978",
     "exception": false,
     "start_time": "2020-08-21T07:07:58.146476",
     "status": "completed"
    },
    "tags": []
   },
   "outputs": [],
   "source": [
    "pyro.set_rng_seed(1)"
   ]
  },
  {
   "cell_type": "code",
   "execution_count": 3,
   "metadata": {
    "execution": {
     "iopub.execute_input": "2020-08-21T07:07:58.240723Z",
     "iopub.status.busy": "2020-08-21T07:07:58.239560Z",
     "iopub.status.idle": "2020-08-21T07:07:58.243155Z",
     "shell.execute_reply": "2020-08-21T07:07:58.242569Z"
    },
    "papermill": {
     "duration": 0.038731,
     "end_time": "2020-08-21T07:07:58.243288",
     "exception": false,
     "start_time": "2020-08-21T07:07:58.204557",
     "status": "completed"
    },
    "tags": []
   },
   "outputs": [],
   "source": [
    "import os\n",
    "%matplotlib inline\n",
    "plt.style.use('default')\n",
    "smoke_test = ('CI' in os.environ)"
   ]
  },
  {
   "cell_type": "code",
   "execution_count": 4,
   "metadata": {
    "execution": {
     "iopub.execute_input": "2020-08-21T07:07:58.302048Z",
     "iopub.status.busy": "2020-08-21T07:07:58.301290Z",
     "iopub.status.idle": "2020-08-21T07:07:58.355929Z",
     "shell.execute_reply": "2020-08-21T07:07:58.356549Z"
    },
    "papermill": {
     "duration": 0.089459,
     "end_time": "2020-08-21T07:07:58.356721",
     "exception": false,
     "start_time": "2020-08-21T07:07:58.267262",
     "status": "completed"
    },
    "tags": []
   },
   "outputs": [
    {
     "data": {
      "text/html": [
       "<div>\n",
       "<style scoped>\n",
       "    .dataframe tbody tr th:only-of-type {\n",
       "        vertical-align: middle;\n",
       "    }\n",
       "\n",
       "    .dataframe tbody tr th {\n",
       "        vertical-align: top;\n",
       "    }\n",
       "\n",
       "    .dataframe thead th {\n",
       "        text-align: right;\n",
       "    }\n",
       "</style>\n",
       "<table border=\"1\" class=\"dataframe\">\n",
       "  <thead>\n",
       "    <tr style=\"text-align: right;\">\n",
       "      <th></th>\n",
       "      <th>PassengerId</th>\n",
       "      <th>Survived</th>\n",
       "      <th>Pclass</th>\n",
       "      <th>Name</th>\n",
       "      <th>Sex</th>\n",
       "      <th>Age</th>\n",
       "      <th>SibSp</th>\n",
       "      <th>Parch</th>\n",
       "      <th>Ticket</th>\n",
       "      <th>Fare</th>\n",
       "      <th>Cabin</th>\n",
       "      <th>Embarked</th>\n",
       "      <th>flag</th>\n",
       "    </tr>\n",
       "  </thead>\n",
       "  <tbody>\n",
       "    <tr>\n",
       "      <th>0</th>\n",
       "      <td>1</td>\n",
       "      <td>0</td>\n",
       "      <td>3</td>\n",
       "      <td>Braund, Mr. Owen Harris</td>\n",
       "      <td>male</td>\n",
       "      <td>22.0</td>\n",
       "      <td>1</td>\n",
       "      <td>0</td>\n",
       "      <td>A/5 21171</td>\n",
       "      <td>7.2500</td>\n",
       "      <td>NaN</td>\n",
       "      <td>S</td>\n",
       "      <td>train</td>\n",
       "    </tr>\n",
       "    <tr>\n",
       "      <th>1</th>\n",
       "      <td>2</td>\n",
       "      <td>1</td>\n",
       "      <td>1</td>\n",
       "      <td>Cumings, Mrs. John Bradley (Florence Briggs Th...</td>\n",
       "      <td>female</td>\n",
       "      <td>38.0</td>\n",
       "      <td>1</td>\n",
       "      <td>0</td>\n",
       "      <td>PC 17599</td>\n",
       "      <td>71.2833</td>\n",
       "      <td>C85</td>\n",
       "      <td>C</td>\n",
       "      <td>train</td>\n",
       "    </tr>\n",
       "    <tr>\n",
       "      <th>2</th>\n",
       "      <td>3</td>\n",
       "      <td>1</td>\n",
       "      <td>3</td>\n",
       "      <td>Heikkinen, Miss. Laina</td>\n",
       "      <td>female</td>\n",
       "      <td>26.0</td>\n",
       "      <td>0</td>\n",
       "      <td>0</td>\n",
       "      <td>STON/O2. 3101282</td>\n",
       "      <td>7.9250</td>\n",
       "      <td>NaN</td>\n",
       "      <td>S</td>\n",
       "      <td>train</td>\n",
       "    </tr>\n",
       "    <tr>\n",
       "      <th>3</th>\n",
       "      <td>4</td>\n",
       "      <td>1</td>\n",
       "      <td>1</td>\n",
       "      <td>Futrelle, Mrs. Jacques Heath (Lily May Peel)</td>\n",
       "      <td>female</td>\n",
       "      <td>35.0</td>\n",
       "      <td>1</td>\n",
       "      <td>0</td>\n",
       "      <td>113803</td>\n",
       "      <td>53.1000</td>\n",
       "      <td>C123</td>\n",
       "      <td>S</td>\n",
       "      <td>train</td>\n",
       "    </tr>\n",
       "    <tr>\n",
       "      <th>4</th>\n",
       "      <td>5</td>\n",
       "      <td>0</td>\n",
       "      <td>3</td>\n",
       "      <td>Allen, Mr. William Henry</td>\n",
       "      <td>male</td>\n",
       "      <td>35.0</td>\n",
       "      <td>0</td>\n",
       "      <td>0</td>\n",
       "      <td>373450</td>\n",
       "      <td>8.0500</td>\n",
       "      <td>NaN</td>\n",
       "      <td>S</td>\n",
       "      <td>train</td>\n",
       "    </tr>\n",
       "  </tbody>\n",
       "</table>\n",
       "</div>"
      ],
      "text/plain": [
       "   PassengerId  Survived  Pclass  \\\n",
       "0            1         0       3   \n",
       "1            2         1       1   \n",
       "2            3         1       3   \n",
       "3            4         1       1   \n",
       "4            5         0       3   \n",
       "\n",
       "                                                Name     Sex   Age  SibSp  \\\n",
       "0                            Braund, Mr. Owen Harris    male  22.0      1   \n",
       "1  Cumings, Mrs. John Bradley (Florence Briggs Th...  female  38.0      1   \n",
       "2                             Heikkinen, Miss. Laina  female  26.0      0   \n",
       "3       Futrelle, Mrs. Jacques Heath (Lily May Peel)  female  35.0      1   \n",
       "4                           Allen, Mr. William Henry    male  35.0      0   \n",
       "\n",
       "   Parch            Ticket     Fare Cabin Embarked   flag  \n",
       "0      0         A/5 21171   7.2500   NaN        S  train  \n",
       "1      0          PC 17599  71.2833   C85        C  train  \n",
       "2      0  STON/O2. 3101282   7.9250   NaN        S  train  \n",
       "3      0            113803  53.1000  C123        S  train  \n",
       "4      0            373450   8.0500   NaN        S  train  "
      ]
     },
     "execution_count": 4,
     "metadata": {},
     "output_type": "execute_result"
    }
   ],
   "source": [
    "data1=pd.read_csv('../input/titanic/train.csv')\n",
    "data2=pd.read_csv('../input/titanic/test.csv')\n",
    "\n",
    "\n",
    "data1['flag']='train'\n",
    "data2['flag']='test'\n",
    "data2['Survived']=0\n",
    "data1=pd.concat([data1,data2],axis=0)\n",
    "data1['Age']=data1['Age'].fillna(data1['Age'].median())\n",
    "data1['Fare']=data1['Fare'].fillna(data1['Fare'].median())\n",
    "data1.head()"
   ]
  },
  {
   "cell_type": "code",
   "execution_count": 5,
   "metadata": {
    "execution": {
     "iopub.execute_input": "2020-08-21T07:07:58.412728Z",
     "iopub.status.busy": "2020-08-21T07:07:58.411933Z",
     "iopub.status.idle": "2020-08-21T07:07:58.423133Z",
     "shell.execute_reply": "2020-08-21T07:07:58.422364Z"
    },
    "papermill": {
     "duration": 0.043445,
     "end_time": "2020-08-21T07:07:58.423261",
     "exception": false,
     "start_time": "2020-08-21T07:07:58.379816",
     "status": "completed"
    },
    "tags": []
   },
   "outputs": [],
   "source": [
    "dum_embarked=pd.get_dummies(data1['Embarked'],prefix='embarked')\n",
    "dum_sex=pd.get_dummies(data1['Sex'],prefix='sex')\n",
    "dum_pclass=pd.get_dummies(data1['Pclass'], prefix='pclass')\n",
    "data1=pd.concat([data1,dum_embarked,dum_sex, dum_pclass],axis=1)\n"
   ]
  },
  {
   "cell_type": "code",
   "execution_count": 6,
   "metadata": {
    "execution": {
     "iopub.execute_input": "2020-08-21T07:07:58.478658Z",
     "iopub.status.busy": "2020-08-21T07:07:58.476388Z",
     "iopub.status.idle": "2020-08-21T07:07:58.482004Z",
     "shell.execute_reply": "2020-08-21T07:07:58.481252Z"
    },
    "papermill": {
     "duration": 0.035608,
     "end_time": "2020-08-21T07:07:58.482130",
     "exception": false,
     "start_time": "2020-08-21T07:07:58.446522",
     "status": "completed"
    },
    "tags": []
   },
   "outputs": [],
   "source": [
    "dict_embark={'S': 0, 'C': 1, 'Q': 2}\n",
    "dict_sex={v:k for k,v in enumerate(data1['Sex'].unique())}\n",
    "data1['Sex']=data1['Sex'].map(dict_sex)"
   ]
  },
  {
   "cell_type": "code",
   "execution_count": 7,
   "metadata": {
    "execution": {
     "iopub.execute_input": "2020-08-21T07:07:58.534458Z",
     "iopub.status.busy": "2020-08-21T07:07:58.533695Z",
     "iopub.status.idle": "2020-08-21T07:07:58.537330Z",
     "shell.execute_reply": "2020-08-21T07:07:58.536600Z"
    },
    "papermill": {
     "duration": 0.032075,
     "end_time": "2020-08-21T07:07:58.537458",
     "exception": false,
     "start_time": "2020-08-21T07:07:58.505383",
     "status": "completed"
    },
    "tags": []
   },
   "outputs": [],
   "source": [
    "feature_cols=['Age', 'SibSp',\n",
    "       'Parch', 'Fare',  'embarked_C',\n",
    "       'embarked_Q', 'embarked_S', 'Sex', 'Pclass']\n",
    "target='Survived'"
   ]
  },
  {
   "cell_type": "code",
   "execution_count": 8,
   "metadata": {
    "execution": {
     "iopub.execute_input": "2020-08-21T07:07:58.592509Z",
     "iopub.status.busy": "2020-08-21T07:07:58.591412Z",
     "iopub.status.idle": "2020-08-21T07:07:58.619399Z",
     "shell.execute_reply": "2020-08-21T07:07:58.618667Z"
    },
    "papermill": {
     "duration": 0.058717,
     "end_time": "2020-08-21T07:07:58.619526",
     "exception": false,
     "start_time": "2020-08-21T07:07:58.560809",
     "status": "completed"
    },
    "tags": []
   },
   "outputs": [
    {
     "data": {
      "text/plain": [
       "Age           0\n",
       "SibSp         0\n",
       "Parch         0\n",
       "Fare          0\n",
       "embarked_C    0\n",
       "embarked_Q    0\n",
       "embarked_S    0\n",
       "Sex           0\n",
       "Pclass        0\n",
       "Survived      0\n",
       "flag          0\n",
       "dtype: int64"
      ]
     },
     "execution_count": 8,
     "metadata": {},
     "output_type": "execute_result"
    }
   ],
   "source": [
    "data1=data1[feature_cols+[target]+['flag']]\n",
    "data1.dropna(axis=1,inplace=True)\n",
    "data1.isna().sum()"
   ]
  },
  {
   "cell_type": "code",
   "execution_count": 9,
   "metadata": {
    "execution": {
     "iopub.execute_input": "2020-08-21T07:07:58.676269Z",
     "iopub.status.busy": "2020-08-21T07:07:58.675359Z",
     "iopub.status.idle": "2020-08-21T07:07:58.678701Z",
     "shell.execute_reply": "2020-08-21T07:07:58.678034Z"
    },
    "papermill": {
     "duration": 0.035366,
     "end_time": "2020-08-21T07:07:58.678831",
     "exception": false,
     "start_time": "2020-08-21T07:07:58.643465",
     "status": "completed"
    },
    "tags": []
   },
   "outputs": [],
   "source": [
    "device='cuda' if torch.cuda.is_available() else 'cpu'\n",
    "device='cpu'"
   ]
  },
  {
   "cell_type": "code",
   "execution_count": 10,
   "metadata": {
    "execution": {
     "iopub.execute_input": "2020-08-21T07:07:58.735231Z",
     "iopub.status.busy": "2020-08-21T07:07:58.734491Z",
     "iopub.status.idle": "2020-08-21T07:07:58.866097Z",
     "shell.execute_reply": "2020-08-21T07:07:58.865419Z"
    },
    "papermill": {
     "duration": 0.163077,
     "end_time": "2020-08-21T07:07:58.866225",
     "exception": false,
     "start_time": "2020-08-21T07:07:58.703148",
     "status": "completed"
    },
    "tags": []
   },
   "outputs": [],
   "source": [
    "from sklearn.model_selection import train_test_split\n",
    "train=data1[data1.flag=='train'][feature_cols+[target]]\n",
    "\n",
    "train.dropna(inplace=True)\n",
    "train=torch.tensor(train.values).to(device)\n",
    "\n",
    "test=torch.tensor(data1[data1.flag=='test'][feature_cols+[target]].values)\n",
    "test=test.to(device)"
   ]
  },
  {
   "cell_type": "code",
   "execution_count": 11,
   "metadata": {
    "execution": {
     "iopub.execute_input": "2020-08-21T07:07:58.926151Z",
     "iopub.status.busy": "2020-08-21T07:07:58.925377Z",
     "iopub.status.idle": "2020-08-21T07:07:58.929776Z",
     "shell.execute_reply": "2020-08-21T07:07:58.929045Z"
    },
    "papermill": {
     "duration": 0.039269,
     "end_time": "2020-08-21T07:07:58.929900",
     "exception": false,
     "start_time": "2020-08-21T07:07:58.890631",
     "status": "completed"
    },
    "tags": []
   },
   "outputs": [],
   "source": [
    "train_x, train_y = train[:, :-1], train[:, -1]"
   ]
  },
  {
   "cell_type": "markdown",
   "execution_count": null,
   "metadata": {
    "papermill": {
     "duration": 0.025482,
     "end_time": "2020-08-21T07:07:58.980218",
     "exception": false,
     "start_time": "2020-08-21T07:07:58.954736",
     "status": "completed"
    },
    "tags": []
   },
   "source": [
    "# Brief on Model Guide set up\n",
    "\n",
    "Model constructs the posterior of paramters given the data, while guide tries to approximate the posterior. In a way Guide is trying to emulate the behaviour of Model. Model has access to real data while guide has not. [Pyro docs](https://pyro.ai/examples/svi_part_i.html) have good explnation for the setup. ELBO is trying to reduce the distance between the two distributions the one learned by the Model (has access to real data) and Guide (does not have access to real data)."
   ]
  },
  {
   "cell_type": "code",
   "execution_count": 12,
   "metadata": {
    "execution": {
     "iopub.execute_input": "2020-08-21T07:07:59.047087Z",
     "iopub.status.busy": "2020-08-21T07:07:59.046006Z",
     "iopub.status.idle": "2020-08-21T07:07:59.049159Z",
     "shell.execute_reply": "2020-08-21T07:07:59.049705Z"
    },
    "papermill": {
     "duration": 0.045112,
     "end_time": "2020-08-21T07:07:59.049874",
     "exception": false,
     "start_time": "2020-08-21T07:07:59.004762",
     "status": "completed"
    },
    "tags": []
   },
   "outputs": [],
   "source": [
    "\n",
    "\n",
    "\n",
    "def model(x_data,y_data):\n",
    "    \n",
    "    Bage=pyro.sample('age',dist.Normal(0.,1.))\n",
    "    Bsibsp=pyro.sample('sibsp',dist.Normal(0.,1.))\n",
    "    Bparch=pyro.sample('parch',dist.Normal(0.,1.))\n",
    "    Bfare=pyro.sample('fare',dist.Normal(0.,1.))\n",
    "    \n",
    "    Bembarked_C=pyro.sample('embarked_C',dist.Normal(0.,1.))\n",
    "    Bembarked_Q=pyro.sample('embarked_Q',dist.Normal(0.,1.))\n",
    "    Bembarked_S=pyro.sample('embarked_S',dist.Normal(0.,1.))\n",
    "\n",
    "    Bsex=pyro.sample('sex',dist.Normal(0.,1.))\n",
    "    Bpclass=pyro.sample('pclass',dist.Normal(0.,1.))\n",
    "    \n",
    "    mean=Bage*x_data[:,0]+Bsibsp*x_data[:,1]+Bparch*x_data[:,2]+Bfare*x_data[:,3]+Bembarked_C*x_data[:,4]+Bembarked_Q*x_data[:,5]+Bembarked_S*x_data[:,6]+Bsex*x_data[:,7]+Bpclass*x_data[:,8]\n",
    "    \n",
    "    #statement pyro.sample has obs paramter in order to condition the predction on the given data\n",
    "    with pyro.plate('data',x_data.shape[0]): #use_cuda=True\n",
    "        pyro.sample('obs',dist.Bernoulli(1/(1+torch.exp(-mean))),obs=y_data)"
   ]
  },
  {
   "cell_type": "code",
   "execution_count": 13,
   "metadata": {
    "execution": {
     "iopub.execute_input": "2020-08-21T07:07:59.118840Z",
     "iopub.status.busy": "2020-08-21T07:07:59.117982Z",
     "iopub.status.idle": "2020-08-21T07:07:59.121506Z",
     "shell.execute_reply": "2020-08-21T07:07:59.120723Z"
    },
    "papermill": {
     "duration": 0.046927,
     "end_time": "2020-08-21T07:07:59.121657",
     "exception": false,
     "start_time": "2020-08-21T07:07:59.074730",
     "status": "completed"
    },
    "tags": []
   },
   "outputs": [],
   "source": [
    "def guide(x_data,y_data):\n",
    "\n",
    "    \n",
    "    #sigma_loc=pyro.param('sigma_loc', torch.tensor(1.,device=device), constraint=constraints.positive)\n",
    "    weight_loc=pyro.param('weight_loc', torch.randn(9,device=device))\n",
    "    weight_scale=pyro.param('weight_scale', torch.ones(9,device=device), constraint=constraints.positive)\n",
    "    \n",
    "    Bage=pyro.sample('age',dist.Normal(weight_loc[0], weight_scale[0]))\n",
    "    \n",
    "    Bsibsp=pyro.sample('sibsp',dist.Normal(weight_loc[1], weight_scale[1]))\n",
    "   \n",
    "    Bparch=pyro.sample('parch',dist.Normal(weight_loc[2], weight_scale[2]))\n",
    "    Bfare=pyro.sample('fare',dist.Normal(weight_loc[3], weight_scale[3]))\n",
    "    \n",
    "    Bembarked_C=pyro.sample('embarked_C',dist.Normal(weight_loc[4], weight_scale[4]))\n",
    "    Bembarked_Q=pyro.sample('embarked_Q',dist.Normal(weight_loc[5], weight_scale[5]))\n",
    "    Bembarked_S=pyro.sample('embarked_S',dist.Normal(weight_loc[6], weight_scale[6]))\n",
    "    \n",
    "    Bsex=pyro.sample('sex',dist.Normal(weight_loc[7], weight_scale[7]))\n",
    "    \n",
    "    Bpclass=pyro.sample('pclass',dist.Normal(weight_loc[8], weight_scale[8])) \n",
    "    mean=Bage*x_data[:,0]+Bsibsp*x_data[:,1]+Bparch*x_data[:,2]+Bfare*x_data[:,3]+Bembarked_C*x_data[:,4]+Bembarked_Q*x_data[:,5]+Bembarked_S*x_data[:,6]+Bsex*x_data[:,7]+Bpclass*x_data[:,8]\n",
    "    \n",
    "    return 1/(1+torch.exp(-mean))"
   ]
  },
  {
   "cell_type": "code",
   "execution_count": 14,
   "metadata": {
    "execution": {
     "iopub.execute_input": "2020-08-21T07:07:59.182662Z",
     "iopub.status.busy": "2020-08-21T07:07:59.181819Z",
     "iopub.status.idle": "2020-08-21T07:08:22.676794Z",
     "shell.execute_reply": "2020-08-21T07:08:22.675986Z"
    },
    "papermill": {
     "duration": 23.530448,
     "end_time": "2020-08-21T07:08:22.676926",
     "exception": false,
     "start_time": "2020-08-21T07:07:59.146478",
     "status": "completed"
    },
    "tags": []
   },
   "outputs": [
    {
     "name": "stdout",
     "output_type": "stream",
     "text": [
      "Elbo loss: 3533.769033286547\n",
      "Elbo loss: 6414.6332969049445\n",
      "Elbo loss: 10825.157855511143\n",
      "Elbo loss: 8996.302018268725\n",
      "Elbo loss: 1611.2268056222936\n",
      "Elbo loss: 4140.009694792784\n",
      "Elbo loss: 3987.500076387613\n",
      "Elbo loss: 2636.830598491768\n",
      "Elbo loss: 2961.868752634441\n",
      "Elbo loss: 1773.6759876113204\n",
      "Elbo loss: 1539.4620933650074\n",
      "Elbo loss: 613.8533761932041\n",
      "Elbo loss: 2078.4134363687094\n",
      "Elbo loss: 1496.3614631512482\n",
      "Elbo loss: 1227.1019819453636\n",
      "Elbo loss: 644.8644982180471\n",
      "Elbo loss: 820.4366536915736\n",
      "Elbo loss: 698.0557873432261\n",
      "Elbo loss: 1007.2208278260133\n",
      "Elbo loss: 826.8106962271868\n",
      "Elbo loss: 971.0509946420551\n",
      "Elbo loss: 882.7674606328895\n",
      "Elbo loss: 626.8348184019961\n",
      "Elbo loss: 570.1597699783456\n",
      "Elbo loss: 555.8552290373523\n",
      "Elbo loss: 1874.6180096373635\n",
      "Elbo loss: 672.890631470831\n",
      "Elbo loss: 509.3538864417601\n",
      "Elbo loss: 530.9071975424528\n",
      "Elbo loss: 1217.393629987751\n",
      "Elbo loss: 578.6500744102451\n",
      "Elbo loss: 603.8794479336847\n",
      "Elbo loss: 724.409786968849\n",
      "Elbo loss: 784.6422258933276\n",
      "Elbo loss: 981.6507711285351\n",
      "Elbo loss: 505.9309268602739\n",
      "Elbo loss: 580.6974536651958\n",
      "Elbo loss: 493.3721545925835\n",
      "Elbo loss: 443.3799288018454\n",
      "Elbo loss: 747.3471610088467\n",
      "Elbo loss: 471.7218136979531\n",
      "Elbo loss: 543.4219946007124\n",
      "Elbo loss: 528.935961982085\n",
      "Elbo loss: 516.778245148492\n",
      "Elbo loss: 536.7473330650353\n",
      "Elbo loss: 611.427157325253\n",
      "Elbo loss: 547.281751223989\n",
      "Elbo loss: 494.193573393486\n",
      "Elbo loss: 545.0018246589723\n",
      "Elbo loss: 479.26183408518915\n",
      "Elbo loss: 461.6557021644033\n",
      "Elbo loss: 447.4273374402236\n",
      "Elbo loss: 571.8309599594922\n",
      "Elbo loss: 446.68557691415106\n",
      "Elbo loss: 631.7821239293281\n",
      "Elbo loss: 770.0136426551671\n",
      "Elbo loss: 494.0452993113054\n",
      "Elbo loss: 569.452913392688\n",
      "Elbo loss: 451.61635450086675\n",
      "Elbo loss: 435.8130920823537\n",
      "Elbo loss: 430.5520137381246\n",
      "Elbo loss: 433.16933875920284\n",
      "Elbo loss: 431.1720240875414\n",
      "Elbo loss: 553.8400272452415\n",
      "Elbo loss: 424.59133699106457\n",
      "Elbo loss: 488.18122330504843\n",
      "Elbo loss: 439.48327401374013\n",
      "Elbo loss: 486.60261123642255\n",
      "Elbo loss: 655.7138566612268\n",
      "Elbo loss: 442.2074304703355\n",
      "Elbo loss: 460.38488555426073\n",
      "Elbo loss: 430.5526362278694\n",
      "Elbo loss: 448.5694894969683\n",
      "Elbo loss: 465.59113817740075\n",
      "Elbo loss: 525.9240295143691\n",
      "Elbo loss: 473.8113475067079\n",
      "Elbo loss: 433.3645078579432\n",
      "Elbo loss: 553.4787585495719\n",
      "Elbo loss: 738.6826191064\n",
      "Elbo loss: 584.0766520497392\n",
      "Elbo loss: 522.8812113228582\n",
      "Elbo loss: 454.0836033524874\n",
      "Elbo loss: 443.68866888562945\n",
      "Elbo loss: 433.16495782211126\n",
      "Elbo loss: 542.0766206815325\n",
      "Elbo loss: 432.5837920804707\n",
      "Elbo loss: 433.7394875042563\n",
      "Elbo loss: 435.71276103777586\n",
      "Elbo loss: 470.5990637077917\n",
      "Elbo loss: 458.96835494121945\n",
      "Elbo loss: 429.7413853294285\n",
      "Elbo loss: 429.4957601697478\n",
      "Elbo loss: 473.7801074302748\n",
      "Elbo loss: 459.7937417629624\n",
      "Elbo loss: 457.19383595420857\n",
      "Elbo loss: 457.2200870400086\n",
      "Elbo loss: 450.94031178944334\n",
      "Elbo loss: 431.7531700406011\n",
      "Elbo loss: 466.5671446176709\n",
      "Elbo loss: 450.561881211111\n",
      "Elbo loss: 430.2277179960494\n",
      "Elbo loss: 429.5830662874776\n",
      "Elbo loss: 552.2689838626472\n",
      "Elbo loss: 490.3727216560123\n",
      "Elbo loss: 434.29274332827595\n",
      "Elbo loss: 437.1151952604771\n",
      "Elbo loss: 471.59528697686625\n",
      "Elbo loss: 662.1308502803408\n",
      "Elbo loss: 443.7399903310816\n",
      "Elbo loss: 436.38810031179594\n",
      "Elbo loss: 433.98483205687137\n",
      "Elbo loss: 436.7485660864258\n",
      "Elbo loss: 518.2584236461933\n",
      "Elbo loss: 435.9279276042875\n",
      "Elbo loss: 437.3853504035936\n",
      "Elbo loss: 450.73290431568734\n",
      "Elbo loss: 496.2650721785477\n",
      "Elbo loss: 465.27362256348124\n",
      "Elbo loss: 455.3896939655184\n",
      "Elbo loss: 437.7667207368203\n",
      "Elbo loss: 479.21499761066445\n",
      "Elbo loss: 534.958140658566\n",
      "Elbo loss: 434.9312209177585\n",
      "Elbo loss: 427.86357783170973\n",
      "Elbo loss: 444.73179250865616\n",
      "Elbo loss: 478.01637263376085\n",
      "Elbo loss: 475.6190036778438\n",
      "Elbo loss: 445.0931585577873\n",
      "Elbo loss: 475.49838946359546\n",
      "Elbo loss: 426.7210501009443\n",
      "Elbo loss: 439.88479253220686\n",
      "Elbo loss: 429.47580170599906\n",
      "Elbo loss: 440.7111188907704\n",
      "Elbo loss: 424.4988644164435\n",
      "Elbo loss: 431.0037482099776\n",
      "Elbo loss: 459.9321018062646\n",
      "Elbo loss: 437.47503483468466\n",
      "Elbo loss: 509.0088335689999\n",
      "Elbo loss: 528.8790475205667\n",
      "Elbo loss: 444.82800302041096\n",
      "Elbo loss: 432.44793510730165\n",
      "Elbo loss: 461.9266693400085\n",
      "Elbo loss: 434.4812490118994\n",
      "Elbo loss: 428.73004824953927\n",
      "Elbo loss: 443.8019439931559\n",
      "Elbo loss: 457.58217037988373\n",
      "Elbo loss: 431.0280751582051\n",
      "Elbo loss: 563.3399209722612\n",
      "Elbo loss: 465.9012122285631\n",
      "Elbo loss: 437.39165396736854\n",
      "Elbo loss: 440.3533573305325\n",
      "Elbo loss: 426.0067019644586\n",
      "Elbo loss: 477.9502589706128\n",
      "Elbo loss: 468.7111362923181\n",
      "Elbo loss: 443.87261086002405\n",
      "Elbo loss: 432.7279026675489\n",
      "Elbo loss: 428.72100645673413\n",
      "Elbo loss: 429.80849546657635\n",
      "Elbo loss: 426.0919834819935\n",
      "Elbo loss: 440.06426690154905\n",
      "Elbo loss: 457.8327026649657\n",
      "Elbo loss: 459.3803718449098\n",
      "Elbo loss: 459.77489487960753\n",
      "Elbo loss: 432.1365674450667\n",
      "Elbo loss: 447.17197473924256\n",
      "Elbo loss: 442.7124813147285\n",
      "Elbo loss: 431.06512137426506\n",
      "Elbo loss: 434.6390683166989\n",
      "Elbo loss: 481.47546785427744\n",
      "Elbo loss: 443.63094977901176\n",
      "Elbo loss: 434.97719191766816\n",
      "Elbo loss: 558.0836817378308\n",
      "Elbo loss: 445.27145813101987\n",
      "Elbo loss: 480.20554615514243\n",
      "Elbo loss: 433.0796789187922\n",
      "Elbo loss: 435.294644934693\n",
      "Elbo loss: 433.37490140745325\n",
      "Elbo loss: 443.37051423378944\n",
      "Elbo loss: 461.3341378035958\n",
      "Elbo loss: 428.78532051264136\n",
      "Elbo loss: 432.89854860283515\n",
      "Elbo loss: 459.9938788823207\n",
      "Elbo loss: 431.6275514408124\n",
      "Elbo loss: 450.3031971949471\n",
      "Elbo loss: 476.2195873405441\n",
      "Elbo loss: 428.8285666797358\n",
      "Elbo loss: 436.3048490522608\n",
      "Elbo loss: 438.7159839919109\n",
      "Elbo loss: 444.0170206331404\n",
      "Elbo loss: 429.27564021274975\n",
      "Elbo loss: 467.82174762373444\n",
      "Elbo loss: 527.1772794043359\n",
      "Elbo loss: 441.0971188450775\n",
      "Elbo loss: 461.12385817231575\n",
      "Elbo loss: 427.93639922967566\n",
      "Elbo loss: 449.70611777372403\n",
      "Elbo loss: 440.36020681964425\n",
      "Elbo loss: 449.4012872840875\n",
      "Elbo loss: 434.33531453507373\n",
      "Elbo loss: 442.5187699466868\n",
      "Elbo loss: 440.4517805840111\n",
      "Elbo loss: 429.03275232843896\n",
      "Elbo loss: 445.96224118242645\n",
      "Elbo loss: 422.99616729645743\n",
      "Elbo loss: 456.1544178919367\n",
      "Elbo loss: 442.8231663161281\n",
      "Elbo loss: 434.3764062102484\n",
      "Elbo loss: 427.37364474486793\n",
      "Elbo loss: 429.05991655675456\n",
      "Elbo loss: 433.5269853514936\n",
      "Elbo loss: 439.3845025730154\n",
      "Elbo loss: 444.2614358130895\n",
      "Elbo loss: 529.1628548268643\n",
      "Elbo loss: 456.91864595662986\n",
      "Elbo loss: 450.06013808612823\n",
      "Elbo loss: 425.1625697642629\n",
      "Elbo loss: 442.18336918679967\n",
      "Elbo loss: 460.7595625337113\n",
      "Elbo loss: 446.4982972367466\n",
      "Elbo loss: 482.18733370777727\n",
      "Elbo loss: 455.4204720301714\n",
      "Elbo loss: 455.6039391266166\n",
      "Elbo loss: 472.0384725237231\n",
      "Elbo loss: 552.9520179521546\n",
      "Elbo loss: 473.26720514332004\n",
      "Elbo loss: 445.5256615549767\n",
      "Elbo loss: 543.5000192901581\n",
      "Elbo loss: 439.7224911396495\n",
      "Elbo loss: 443.10855973219526\n",
      "Elbo loss: 437.87200226698934\n",
      "Elbo loss: 432.21518483345267\n",
      "Elbo loss: 437.8702244699981\n",
      "Elbo loss: 431.4790958918039\n",
      "Elbo loss: 435.9033232722598\n",
      "Elbo loss: 439.3495978292285\n",
      "Elbo loss: 486.7337746004218\n",
      "Elbo loss: 504.93784474018724\n",
      "Elbo loss: 465.7224883792199\n",
      "Elbo loss: 429.5685837134588\n",
      "Elbo loss: 432.6745474130397\n",
      "Elbo loss: 439.0008509006893\n",
      "Elbo loss: 424.2848013512885\n",
      "Elbo loss: 431.5383799530969\n",
      "Elbo loss: 467.30290338150934\n",
      "Elbo loss: 439.67886720631816\n",
      "Elbo loss: 508.98247158996156\n",
      "Elbo loss: 462.29823948129024\n",
      "Elbo loss: 447.4956751207147\n",
      "Elbo loss: 429.74344194868\n",
      "Elbo loss: 435.5208730310687\n",
      "Elbo loss: 429.97598996483134\n",
      "Elbo loss: 471.11417652873496\n",
      "Elbo loss: 443.5513696944908\n",
      "Elbo loss: 440.62580018957476\n",
      "Elbo loss: 451.9076940943701\n",
      "Elbo loss: 443.8914939051358\n",
      "Elbo loss: 435.7438048033786\n",
      "Elbo loss: 426.30820474130127\n",
      "Elbo loss: 455.77241165983503\n",
      "Elbo loss: 439.9532157129969\n",
      "Elbo loss: 440.0330866534675\n",
      "Elbo loss: 433.20508672487625\n",
      "Elbo loss: 450.29148133338816\n",
      "Elbo loss: 437.7101674003773\n",
      "Elbo loss: 459.4450643434188\n",
      "Elbo loss: 471.6689751102188\n",
      "Elbo loss: 469.61160278172065\n",
      "Elbo loss: 433.04522147023795\n",
      "Elbo loss: 428.98312458926205\n",
      "Elbo loss: 438.53467288822895\n",
      "Elbo loss: 428.95903369372365\n",
      "Elbo loss: 433.4112079880719\n",
      "Elbo loss: 451.5398613850374\n",
      "Elbo loss: 449.29631469661416\n",
      "Elbo loss: 453.95041381230675\n",
      "Elbo loss: 444.1047393293588\n",
      "Elbo loss: 433.5793577624053\n",
      "Elbo loss: 446.7285897866276\n",
      "Elbo loss: 433.81947956060685\n",
      "Elbo loss: 436.74110057218013\n",
      "Elbo loss: 430.72764346355086\n",
      "Elbo loss: 428.9810761280166\n",
      "Elbo loss: 455.90922412178173\n",
      "Elbo loss: 455.53596070669903\n",
      "Elbo loss: 430.3400519811836\n",
      "Elbo loss: 443.1498585862017\n",
      "Elbo loss: 460.0541025203338\n",
      "Elbo loss: 459.4175262608366\n",
      "Elbo loss: 428.34608025435926\n",
      "Elbo loss: 433.6854812438601\n",
      "Elbo loss: 429.41077755426306\n",
      "Elbo loss: 431.79936944668697\n",
      "Elbo loss: 434.8284383734875\n",
      "Elbo loss: 436.52138795126075\n",
      "Elbo loss: 429.81032351919407\n",
      "Elbo loss: 441.76003841919794\n",
      "Elbo loss: 446.4630292753911\n",
      "Elbo loss: 455.88316135155276\n",
      "Elbo loss: 427.59361792953695\n",
      "Elbo loss: 423.38323465551963\n"
     ]
    }
   ],
   "source": [
    "from pyro.infer import SVI, Trace_ELBO\n",
    "#we have used Adam optimizer which is a wrapper on Pytorch's Adam optimizer\n",
    "#Addtionally we do not need to pass the learnable paramters explicitely like in Pytorch models. Here is happens in guide automatiaclly\n",
    "\n",
    "#jusr like in non-Bayesian Linear Regression, each iteration of our training step will take gradient step with loss as MSE\n",
    "#while in Bayesian we will use Evidence Lower Bound (ELBO) by contructing a Trace_Elbo object\n",
    "\n",
    "svi=SVI(model, guide, optim.Adam({'lr':0.06}), loss=Trace_ELBO())\n",
    "\n",
    "loss=[]\n",
    "cntr=0\n",
    "pyro.clear_param_store()\n",
    "num_iters=3000 if not smoke_test else 2\n",
    "for i in range(num_iters):\n",
    "    elbo=svi.step(train_x,train_y)\n",
    "    \n",
    "    if i % 10 == 0:\n",
    "        print(\"Elbo loss: {}\".format(elbo))\n",
    "    cntr+=1\n",
    "    loss.append(elbo)\n",
    "        "
   ]
  },
  {
   "cell_type": "code",
   "execution_count": 15,
   "metadata": {
    "execution": {
     "iopub.execute_input": "2020-08-21T07:08:22.747469Z",
     "iopub.status.busy": "2020-08-21T07:08:22.746568Z",
     "iopub.status.idle": "2020-08-21T07:08:22.978603Z",
     "shell.execute_reply": "2020-08-21T07:08:22.979157Z"
    },
    "papermill": {
     "duration": 0.270128,
     "end_time": "2020-08-21T07:08:22.979346",
     "exception": false,
     "start_time": "2020-08-21T07:08:22.709218",
     "status": "completed"
    },
    "tags": []
   },
   "outputs": [
    {
     "data": {
      "text/plain": [
       "Text(0.5, 1.0, 'Loss with Iterations')"
      ]
     },
     "execution_count": 15,
     "metadata": {},
     "output_type": "execute_result"
    },
    {
     "data": {
      "image/png": "[encoded data removed]",
      "text/plain": [
       "<Figure size 640x480 with 1 Axes>"
      ]
     },
     "metadata": {},
     "output_type": "display_data"
    }
   ],
   "source": [
    "plt.plot(np.arange(cntr),loss)\n",
    "plt.title(\"Loss with Iterations\")"
   ]
  },
  {
   "cell_type": "code",
   "execution_count": 16,
   "metadata": {
    "execution": {
     "iopub.execute_input": "2020-08-21T07:08:23.056477Z",
     "iopub.status.busy": "2020-08-21T07:08:23.055484Z",
     "iopub.status.idle": "2020-08-21T07:08:23.059351Z",
     "shell.execute_reply": "2020-08-21T07:08:23.058595Z"
    },
    "papermill": {
     "duration": 0.046936,
     "end_time": "2020-08-21T07:08:23.059482",
     "exception": false,
     "start_time": "2020-08-21T07:08:23.012546",
     "status": "completed"
    },
    "tags": []
   },
   "outputs": [],
   "source": [
    "from pyro.infer import Predictive\n",
    "def summary(samples):\n",
    "    site_stats = {}\n",
    "    for k, v in samples.items():\n",
    "        site_stats[k] = {\n",
    "            \"mean\": torch.mean(v, 0),\n",
    "            \"std\": torch.std(v, 0),\n",
    "            \"5%\": v.kthvalue(int(len(v) * 0.05), dim=0)[0],\n",
    "            \"95%\": v.kthvalue(int(len(v) * 0.95), dim=0)[0],\n",
    "        }\n",
    "    return site_stats\n",
    "\n"
   ]
  },
  {
   "cell_type": "code",
   "execution_count": 17,
   "metadata": {
    "execution": {
     "iopub.execute_input": "2020-08-21T07:08:23.133024Z",
     "iopub.status.busy": "2020-08-21T07:08:23.131686Z",
     "iopub.status.idle": "2020-08-21T07:08:25.358426Z",
     "shell.execute_reply": "2020-08-21T07:08:25.357778Z"
    },
    "papermill": {
     "duration": 2.265856,
     "end_time": "2020-08-21T07:08:25.358576",
     "exception": false,
     "start_time": "2020-08-21T07:08:23.092720",
     "status": "completed"
    },
    "tags": []
   },
   "outputs": [],
   "source": [
    "predictive = Predictive(model, guide=guide, num_samples=800)\n",
    "samples = predictive(train_x, train_y)\n",
    "pred_summary = summary(samples)"
   ]
  },
  {
   "cell_type": "code",
   "execution_count": 18,
   "metadata": {
    "execution": {
     "iopub.execute_input": "2020-08-21T07:08:25.436546Z",
     "iopub.status.busy": "2020-08-21T07:08:25.435673Z",
     "iopub.status.idle": "2020-08-21T07:08:25.550802Z",
     "shell.execute_reply": "2020-08-21T07:08:25.550022Z"
    },
    "papermill": {
     "duration": 0.159893,
     "end_time": "2020-08-21T07:08:25.550934",
     "exception": false,
     "start_time": "2020-08-21T07:08:25.391041",
     "status": "completed"
    },
    "tags": []
   },
   "outputs": [
    {
     "ename": "NameError",
     "evalue": "name 'k' is not defined",
     "output_type": "error",
     "traceback": [
      "\u001b[0;31m---------------------------------------------------------------------------\u001b[0m",
      "\u001b[0;31mNameError\u001b[0m                                 Traceback (most recent call last)",
      "\u001b[0;32m<ipython-input-18-4c4f71ab2e17>\u001b[0m in \u001b[0;36m<module>\u001b[0;34m\u001b[0m\n\u001b[0;32m----> 1\u001b[0;31m \u001b[0mpred_summary\u001b[0m\u001b[0;34m[\u001b[0m\u001b[0mk\u001b[0m\u001b[0;34m]\u001b[0m\u001b[0;34m[\u001b[0m\u001b[0mp\u001b[0m\u001b[0;34m]\u001b[0m\u001b[0;34m\u001b[0m\u001b[0;34m\u001b[0m\u001b[0m\n\u001b[0m",
      "\u001b[0;31mNameError\u001b[0m: name 'k' is not defined"
     ]
    }
   ],
   "source": [
    "pred_summary[k][p]"
   ]
  },
  {
   "cell_type": "code",
   "execution_count": 19,
   "metadata": {
    "execution": {
     "iopub.execute_input": "2020-08-21T07:08:25.623941Z",
     "iopub.status.busy": "2020-08-21T07:08:25.623101Z",
     "iopub.status.idle": "2020-08-21T07:08:25.628004Z",
     "shell.execute_reply": "2020-08-21T07:08:25.627411Z"
    },
    "papermill": {
     "duration": 0.044418,
     "end_time": "2020-08-21T07:08:25.628143",
     "exception": false,
     "start_time": "2020-08-21T07:08:25.583725",
     "status": "completed"
    },
    "tags": []
   },
   "outputs": [],
   "source": [
    "for k in ['age', 'sibsp', 'parch', 'fare', 'embarked_C', 'embarked_Q', 'embarked_S', 'sex', 'pclass']:\n",
    "    for p in pred_summary[k].keys():\n",
    "        pred_summary[k][p]=pred_summary[k][p].item()\n",
    "        "
   ]
  },
  {
   "cell_type": "code",
   "execution_count": 20,
   "metadata": {
    "execution": {
     "iopub.execute_input": "2020-08-21T07:08:25.714529Z",
     "iopub.status.busy": "2020-08-21T07:08:25.708025Z",
     "iopub.status.idle": "2020-08-21T07:08:25.720285Z",
     "shell.execute_reply": "2020-08-21T07:08:25.719529Z"
    },
    "papermill": {
     "duration": 0.059523,
     "end_time": "2020-08-21T07:08:25.720435",
     "exception": false,
     "start_time": "2020-08-21T07:08:25.660912",
     "status": "completed"
    },
    "tags": []
   },
   "outputs": [
    {
     "data": {
      "text/html": [
       "<div>\n",
       "<style scoped>\n",
       "    .dataframe tbody tr th:only-of-type {\n",
       "        vertical-align: middle;\n",
       "    }\n",
       "\n",
       "    .dataframe tbody tr th {\n",
       "        vertical-align: top;\n",
       "    }\n",
       "\n",
       "    .dataframe thead th {\n",
       "        text-align: right;\n",
       "    }\n",
       "</style>\n",
       "<table border=\"1\" class=\"dataframe\">\n",
       "  <thead>\n",
       "    <tr style=\"text-align: right;\">\n",
       "      <th></th>\n",
       "      <th>age</th>\n",
       "      <th>sibsp</th>\n",
       "      <th>parch</th>\n",
       "      <th>fare</th>\n",
       "      <th>embarked_C</th>\n",
       "      <th>embarked_Q</th>\n",
       "      <th>embarked_S</th>\n",
       "      <th>sex</th>\n",
       "      <th>pclass</th>\n",
       "    </tr>\n",
       "  </thead>\n",
       "  <tbody>\n",
       "    <tr>\n",
       "      <th>mean</th>\n",
       "      <td>-0.047720</td>\n",
       "      <td>-0.331079</td>\n",
       "      <td>-0.122106</td>\n",
       "      <td>0.012300</td>\n",
       "      <td>1.342492</td>\n",
       "      <td>1.127113</td>\n",
       "      <td>1.003782</td>\n",
       "      <td>2.709157</td>\n",
       "      <td>-0.825891</td>\n",
       "    </tr>\n",
       "    <tr>\n",
       "      <th>std</th>\n",
       "      <td>0.004001</td>\n",
       "      <td>0.081676</td>\n",
       "      <td>0.094296</td>\n",
       "      <td>0.002640</td>\n",
       "      <td>0.173484</td>\n",
       "      <td>0.320773</td>\n",
       "      <td>0.111788</td>\n",
       "      <td>0.141154</td>\n",
       "      <td>0.035266</td>\n",
       "    </tr>\n",
       "    <tr>\n",
       "      <th>5%</th>\n",
       "      <td>-0.054491</td>\n",
       "      <td>-0.472147</td>\n",
       "      <td>-0.273420</td>\n",
       "      <td>0.007791</td>\n",
       "      <td>1.062988</td>\n",
       "      <td>0.602797</td>\n",
       "      <td>0.818116</td>\n",
       "      <td>2.472155</td>\n",
       "      <td>-0.880863</td>\n",
       "    </tr>\n",
       "    <tr>\n",
       "      <th>95%</th>\n",
       "      <td>-0.041033</td>\n",
       "      <td>-0.195214</td>\n",
       "      <td>0.031794</td>\n",
       "      <td>0.016572</td>\n",
       "      <td>1.608501</td>\n",
       "      <td>1.665753</td>\n",
       "      <td>1.180014</td>\n",
       "      <td>2.938738</td>\n",
       "      <td>-0.768528</td>\n",
       "    </tr>\n",
       "  </tbody>\n",
       "</table>\n",
       "</div>"
      ],
      "text/plain": [
       "           age     sibsp     parch      fare  embarked_C  embarked_Q  \\\n",
       "mean -0.047720 -0.331079 -0.122106  0.012300    1.342492    1.127113   \n",
       "std   0.004001  0.081676  0.094296  0.002640    0.173484    0.320773   \n",
       "5%   -0.054491 -0.472147 -0.273420  0.007791    1.062988    0.602797   \n",
       "95%  -0.041033 -0.195214  0.031794  0.016572    1.608501    1.665753   \n",
       "\n",
       "      embarked_S       sex    pclass  \n",
       "mean    1.003782  2.709157 -0.825891  \n",
       "std     0.111788  0.141154  0.035266  \n",
       "5%      0.818116  2.472155 -0.880863  \n",
       "95%     1.180014  2.938738 -0.768528  "
      ]
     },
     "execution_count": 20,
     "metadata": {},
     "output_type": "execute_result"
    }
   ],
   "source": [
    "summary=pd.DataFrame(pred_summary)\n",
    "summary.drop('obs',axis=1,inplace=True)\n",
    "summary"
   ]
  },
  {
   "cell_type": "code",
   "execution_count": 21,
   "metadata": {
    "execution": {
     "iopub.execute_input": "2020-08-21T07:08:25.793111Z",
     "iopub.status.busy": "2020-08-21T07:08:25.792334Z",
     "iopub.status.idle": "2020-08-21T07:08:25.795969Z",
     "shell.execute_reply": "2020-08-21T07:08:25.796526Z"
    },
    "papermill": {
     "duration": 0.043504,
     "end_time": "2020-08-21T07:08:25.796709",
     "exception": false,
     "start_time": "2020-08-21T07:08:25.753205",
     "status": "completed"
    },
    "tags": []
   },
   "outputs": [],
   "source": [
    "test_x, test_y = test[:, :-1], test[:, -1]"
   ]
  },
  {
   "cell_type": "code",
   "execution_count": 22,
   "metadata": {
    "execution": {
     "iopub.execute_input": "2020-08-21T07:08:25.869520Z",
     "iopub.status.busy": "2020-08-21T07:08:25.868662Z",
     "iopub.status.idle": "2020-08-21T07:08:26.078021Z",
     "shell.execute_reply": "2020-08-21T07:08:26.077357Z"
    },
    "papermill": {
     "duration": 0.248343,
     "end_time": "2020-08-21T07:08:26.078163",
     "exception": false,
     "start_time": "2020-08-21T07:08:25.829820",
     "status": "completed"
    },
    "tags": []
   },
   "outputs": [],
   "source": [
    "\n",
    "preds = []\n",
    "for i in range(200):\n",
    "    pred = guide(test_x,None).detach().cpu().numpy()\n",
    "    #pred = sampled_reg_model(test_x,None)\n",
    "    preds.append(pred)\n"
   ]
  },
  {
   "cell_type": "code",
   "execution_count": 23,
   "metadata": {
    "execution": {
     "iopub.execute_input": "2020-08-21T07:08:26.154072Z",
     "iopub.status.busy": "2020-08-21T07:08:26.152820Z",
     "iopub.status.idle": "2020-08-21T07:08:26.158837Z",
     "shell.execute_reply": "2020-08-21T07:08:26.158114Z"
    },
    "papermill": {
     "duration": 0.047062,
     "end_time": "2020-08-21T07:08:26.158978",
     "exception": false,
     "start_time": "2020-08-21T07:08:26.111916",
     "status": "completed"
    },
    "tags": []
   },
   "outputs": [],
   "source": [
    "preds=np.stack(preds).T\n",
    "preds_mean=preds.mean(axis=1)\n",
    "preds_med=preds.std(axis=1)"
   ]
  },
  {
   "cell_type": "code",
   "execution_count": 24,
   "metadata": {
    "execution": {
     "iopub.execute_input": "2020-08-21T07:08:26.241964Z",
     "iopub.status.busy": "2020-08-21T07:08:26.240914Z",
     "iopub.status.idle": "2020-08-21T07:08:26.246202Z",
     "shell.execute_reply": "2020-08-21T07:08:26.245450Z"
    },
    "papermill": {
     "duration": 0.053958,
     "end_time": "2020-08-21T07:08:26.246347",
     "exception": false,
     "start_time": "2020-08-21T07:08:26.192389",
     "status": "completed"
    },
    "tags": []
   },
   "outputs": [
    {
     "data": {
      "text/html": [
       "<div>\n",
       "<style scoped>\n",
       "    .dataframe tbody tr th:only-of-type {\n",
       "        vertical-align: middle;\n",
       "    }\n",
       "\n",
       "    .dataframe tbody tr th {\n",
       "        vertical-align: top;\n",
       "    }\n",
       "\n",
       "    .dataframe thead th {\n",
       "        text-align: right;\n",
       "    }\n",
       "</style>\n",
       "<table border=\"1\" class=\"dataframe\">\n",
       "  <thead>\n",
       "    <tr style=\"text-align: right;\">\n",
       "      <th></th>\n",
       "      <th>mean</th>\n",
       "      <th>std</th>\n",
       "    </tr>\n",
       "  </thead>\n",
       "  <tbody>\n",
       "    <tr>\n",
       "      <th>0</th>\n",
       "      <td>0</td>\n",
       "      <td>0.018491</td>\n",
       "    </tr>\n",
       "    <tr>\n",
       "      <th>1</th>\n",
       "      <td>0</td>\n",
       "      <td>0.045468</td>\n",
       "    </tr>\n",
       "    <tr>\n",
       "      <th>2</th>\n",
       "      <td>0</td>\n",
       "      <td>0.013416</td>\n",
       "    </tr>\n",
       "    <tr>\n",
       "      <th>3</th>\n",
       "      <td>0</td>\n",
       "      <td>0.010301</td>\n",
       "    </tr>\n",
       "    <tr>\n",
       "      <th>4</th>\n",
       "      <td>1</td>\n",
       "      <td>0.062310</td>\n",
       "    </tr>\n",
       "  </tbody>\n",
       "</table>\n",
       "</div>"
      ],
      "text/plain": [
       "   mean       std\n",
       "0     0  0.018491\n",
       "1     0  0.045468\n",
       "2     0  0.013416\n",
       "3     0  0.010301\n",
       "4     1  0.062310"
      ]
     },
     "execution_count": 24,
     "metadata": {},
     "output_type": "execute_result"
    }
   ],
   "source": [
    "predc=pd.concat([pd.DataFrame(preds_mean),pd.DataFrame(preds_med)],axis=1)\n",
    "predc.columns=['mean','std']\n",
    "predc['mean']=np.where(predc['mean']>0.45,1,0)\n",
    "predc.head()"
   ]
  },
  {
   "cell_type": "code",
   "execution_count": 25,
   "metadata": {
    "execution": {
     "iopub.execute_input": "2020-08-21T07:08:26.322919Z",
     "iopub.status.busy": "2020-08-21T07:08:26.322142Z",
     "iopub.status.idle": "2020-08-21T07:08:26.453584Z",
     "shell.execute_reply": "2020-08-21T07:08:26.452804Z"
    },
    "papermill": {
     "duration": 0.173512,
     "end_time": "2020-08-21T07:08:26.453726",
     "exception": false,
     "start_time": "2020-08-21T07:08:26.280214",
     "status": "completed"
    },
    "tags": []
   },
   "outputs": [
    {
     "data": {
      "text/plain": [
       "0    275\n",
       "1    143\n",
       "Name: Survived, dtype: int64"
      ]
     },
     "execution_count": 25,
     "metadata": {},
     "output_type": "execute_result"
    }
   ],
   "source": [
    "sub=pd.concat([data2['PassengerId'],predc['mean']],axis=1)\n",
    "sub.columns=['PassengerId','Survived']\n",
    "sub.to_csv('submission_svi.csv',index=False)\n",
    "sub.Survived.value_counts()"
   ]
  },
  {
   "cell_type": "code",
   "execution_count": null,
   "metadata": {
    "papermill": {
     "duration": 0.034289,
     "end_time": "2020-08-21T07:08:26.522021",
     "exception": false,
     "start_time": "2020-08-21T07:08:26.487732",
     "status": "completed"
    },
    "tags": []
   },
   "outputs": [],
   "source": []
  }
 ],
 "metadata": {
  "kernelspec": {
   "display_name": "Python 3",
   "language": "python",
   "name": "python3"
  },
  "language_info": {
   "codemirror_mode": {
    "name": "ipython",
    "version": 3
   },
   "file_extension": ".py",
   "mimetype": "text/x-python",
   "name": "python",
   "nbconvert_exporter": "python",
   "pygments_lexer": "ipython3",
   "version": "3.7.6"
  },
  "papermill": {
   "duration": 49.30366,
   "end_time": "2020-08-21T07:08:26.665699",
   "environment_variables": {},
   "exception": null,
   "input_path": "__notebook__.ipynb",
   "output_path": "__notebook__.ipynb",
   "parameters": {},
   "start_time": "2020-08-21T07:07:37.362039",
   "version": "2.1.0"
  }
 },
 "nbformat": 4,
 "nbformat_minor": 4
}
